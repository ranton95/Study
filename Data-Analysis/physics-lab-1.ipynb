{
 "cells": [
  {
   "cell_type": "markdown",
   "metadata": {},
   "source": [
    "# Kinematics\n",
    ">"
   ]
  },
  {
   "cell_type": "markdown",
   "metadata": {},
   "source": [
    "# 1. Purpose of the experiment\n",
    ">\n",
    "We'll look at how force, velocity, and acceleration interact in a one-dimensional system. The dynamics of motion will be recorded using electronic timers.\n",
    "Based on your experimental results, you will learn how to compute meaningful values.\n",
    "\n",
    "Calculations and graphical representations are performed using Jupyter-Lab, LaTex and Python libraries: `numpy`, `pandas`, `seaborn` and `plotly`."
   ]
  },
  {
   "cell_type": "markdown",
   "metadata": {},
   "source": [
    "# 2. Introduction\n",
    ">\n",
    "What is motion? An object’s position changes with time t. The **average velocity** $v$ expresses by what amount $\\Delta x$ the position changes per time interval $\\Delta t$\n",
    "\n",
    "$$v = \\frac{\\Delta x}{\\Delta t}\\tag{1}$$\n",
    "\n",
    "When a force F acts on the object, the velocity will change while the object is moving. The velocity\n",
    "could increase or decrease, accelerate or decelerate. The **acceleration** a describes how much the velocity\n",
    "changes per time interval:\n",
    "\n",
    "\n",
    "$$a = \\frac{\\Delta v}{\\Delta t}\\tag{2}$$\n",
    "\n",
    "That acceleration a of the object with a mass m is determined by the applied force F:\n",
    "\n",
    "$$ F = m.a \\tag{3}$$\n",
    "\n",
    "Equation (1) can be modified to describe infinitely small time intervals. The resulting instantaneous\n",
    "velocity is the velocity at one particular time:\n",
    "\n",
    "$$ v(t) = \\frac{dx}{dt}= \\dot x \\tag{4}$$\n",
    "\n",
    "Now we can discuss the motion in terms of position, velocity and acceleration and their mutual\n",
    "dependencies. The velocity develops in time depending on the constant acceleration with the initial\n",
    "velocity $v0$.\n",
    "\n",
    "$$ v(t) = a.t + v_o \\tag{5}$$\n",
    "\n",
    "The object is moving from the initial position x0 depending on v0 and the constant acceleration.\n",
    "\n",
    "$$ x(t) = \\frac{1}{2}a.t^2 + v_0.t + x_0 \\tag{6} $$\n",
    "\n",
    "\n",
    "If we want to speed up an object, a force is needed. This could be the gravitational force Fg acting on a\n",
    "second object of mass M moving with the gravitational acceleration g. If we attach the masses to each\n",
    "other with a thin thread that runs over a pulley, the force Fg will accelerate both objects – one\n",
    "horizontally, one vertically. So we can choose the inertial mass m of the object we want to investigate\n",
    "independently from the gravitational mass of the pulling object M. The resulting acceleration is modeled\n",
    "with:\n",
    "\n",
    "$$ F_g = M.g = (m+M).a \\Leftrightarrow $$\n",
    "\n",
    "$$ a= \\frac{M}{m+M}.g \\tag{7}$$\n",
    "\n"
   ]
  },
  {
   "cell_type": "markdown",
   "metadata": {},
   "source": [
    "# 3.\tExperimental setup and measurement procedure\n",
    ">\n",
    "We're utilizing a track that allows a cart to travel a set distance without encountering excessive friction. If the track is appropriately set horizontally, a cart will proceed with constant velocity according to (1). The cart may be propelled instantaneously using a mechanical starter with three phases that result in varying beginning velocities.\n",
    "Alternatively, the starting can simply let go of the cart, which is propelled by a load hooked to a thread connected by a pulley.\n",
    "\n",
    "An electronic timer reads a series of light barriers to calculate the time t it takes the cart to go from the start to a specific place x. This enables us to identify a set of points (x,t). The timer can read blackout times t in a different mode.\n",
    "\n",
    "In other words, the time it takes the flag l to pass through the light barrier at a specific place x allows us to calculate the velocity v(x). Both measures may be used to assess how velocity varies over time v(t).\n"
   ]
  },
  {
   "cell_type": "markdown",
   "metadata": {},
   "source": [
    "# 4.1 Data Analysis\n",
    ">\n"
   ]
  },
  {
   "cell_type": "markdown",
   "metadata": {},
   "source": [
    "#### Importing Python libraries for analysis:"
   ]
  },
  {
   "cell_type": "code",
   "execution_count": 1,
   "metadata": {},
   "outputs": [],
   "source": [
    "!pip install jovian plotly -U kaleido --upgrade --quiet"
   ]
  },
  {
   "cell_type": "code",
   "execution_count": 2,
   "metadata": {},
   "outputs": [],
   "source": [
    "import pandas as pd\n",
    "import numpy as np\n",
    "\n",
    "import matplotlib.pyplot as plt\n",
    "import seaborn as sns\n",
    "import plotly \n",
    "import plotly.express as px\n",
    "import plotly.graph_objects as go\n",
    "import jovian\n",
    "\n",
    "from IPython.display import display, Math, Markdown\n",
    "from sklearn.linear_model import LinearRegression\n",
    "from scipy.interpolate import *\n",
    "\n",
    "sns.set_style('darkgrid')\n",
    "sns.set(rc={'figure.figsize':(10,4.5)})"
   ]
  },
  {
   "cell_type": "markdown",
   "metadata": {},
   "source": [
    "**Creating Task 1 dataframe:**"
   ]
  },
  {
   "cell_type": "markdown",
   "metadata": {},
   "source": [
    "![image](https://i.gyazo.com/0c35561e722c1049372fb2f7ea7cbf9d.png)"
   ]
  },
  {
   "cell_type": "markdown",
   "metadata": {},
   "source": [
    "<h4 style ='text-align:center;' >Table 1: Task 1</h4>\n",
    "\n",
    ">"
   ]
  },
  {
   "cell_type": "code",
   "execution_count": 192,
   "metadata": {},
   "outputs": [],
   "source": [
    "task_1 = {'width of stick in cm': 1,\n",
    "               'mass of cart in kg': 0.401,\n",
    "               'start position in cm': 7.5}\n",
    "\n",
    "task1_df = pd.DataFrame(task_1, index=[0])"
   ]
  },
  {
   "cell_type": "markdown",
   "metadata": {},
   "source": [
    "After importing the libraries task we create a `pandas` dataframe reading the `.csv` calculates the velocity using the blackout time $\\Delta t$ and the length of the flag $l$.\n",
    "\n",
    "**Importing Task 2 into dataframe:**"
   ]
  },
  {
   "cell_type": "markdown",
   "metadata": {},
   "source": [
    "![image](https://i.gyazo.com/ad1bcc4cf2a8cfb127132db059af0c1d.png)"
   ]
  },
  {
   "cell_type": "markdown",
   "metadata": {},
   "source": [
    "<h4 style ='text-align:center;' >Table 2: Task 2</h4>\n",
    "\n",
    ">"
   ]
  },
  {
   "cell_type": "code",
   "execution_count": 3,
   "metadata": {},
   "outputs": [],
   "source": [
    "df = pd.read_csv('task2.csv')\n",
    "df = df.rename(columns={'Task 2': 'stages'})"
   ]
  },
  {
   "cell_type": "markdown",
   "metadata": {},
   "source": [
    "**Importing Task 3 into dataframe:**"
   ]
  },
  {
   "cell_type": "markdown",
   "metadata": {},
   "source": [
    "![image](https://i.gyazo.com/0d973bd892ee87b1e8d33588d1387ccd.png)"
   ]
  },
  {
   "cell_type": "markdown",
   "metadata": {},
   "source": [
    "<h4 style ='text-align:center;' >Table 3: Task 3</h4>\n",
    "\n",
    ">"
   ]
  },
  {
   "cell_type": "code",
   "execution_count": 4,
   "metadata": {},
   "outputs": [],
   "source": [
    "df2 = pd.read_csv('task2_1.csv')"
   ]
  },
  {
   "cell_type": "markdown",
   "metadata": {},
   "source": [
    "### Q: Calculate the velocities using a variable in Matlab according to (1) based on the measured blackout times $\\Delta t$ and the length of the flag $l$.\n",
    ">"
   ]
  },
  {
   "cell_type": "markdown",
   "metadata": {},
   "source": [
    "Calculating the velocity and appending it to the original dataframe:"
   ]
  },
  {
   "cell_type": "code",
   "execution_count": 65,
   "metadata": {},
   "outputs": [
    {
     "data": {
      "text/html": [
       "<div>\n",
       "<style scoped>\n",
       "    .dataframe tbody tr th:only-of-type {\n",
       "        vertical-align: middle;\n",
       "    }\n",
       "\n",
       "    .dataframe tbody tr th {\n",
       "        vertical-align: top;\n",
       "    }\n",
       "\n",
       "    .dataframe thead th {\n",
       "        text-align: right;\n",
       "    }\n",
       "</style>\n",
       "<table border=\"1\" class=\"dataframe\">\n",
       "  <thead>\n",
       "    <tr style=\"text-align: right;\">\n",
       "      <th></th>\n",
       "      <th>stages</th>\n",
       "      <th>position $x$ in cm</th>\n",
       "      <th>arrival time $t$ in s</th>\n",
       "      <th>black-out time $\\Delta t$ in s</th>\n",
       "      <th>Velocity $v$ in m/s</th>\n",
       "    </tr>\n",
       "  </thead>\n",
       "  <tbody>\n",
       "    <tr>\n",
       "      <th>0</th>\n",
       "      <td>stage 1</td>\n",
       "      <td>25</td>\n",
       "      <td>0.118</td>\n",
       "      <td>0.035</td>\n",
       "      <td>7.14</td>\n",
       "    </tr>\n",
       "    <tr>\n",
       "      <th>1</th>\n",
       "      <td>stage 1</td>\n",
       "      <td>50</td>\n",
       "      <td>1.048</td>\n",
       "      <td>0.036</td>\n",
       "      <td>6.94</td>\n",
       "    </tr>\n",
       "    <tr>\n",
       "      <th>2</th>\n",
       "      <td>stage 1</td>\n",
       "      <td>75</td>\n",
       "      <td>2.017</td>\n",
       "      <td>0.037</td>\n",
       "      <td>6.76</td>\n",
       "    </tr>\n",
       "    <tr>\n",
       "      <th>3</th>\n",
       "      <td>stage 1</td>\n",
       "      <td>100</td>\n",
       "      <td>3.003</td>\n",
       "      <td>0.036</td>\n",
       "      <td>6.94</td>\n",
       "    </tr>\n",
       "    <tr>\n",
       "      <th>4</th>\n",
       "      <td>stage 2</td>\n",
       "      <td>25</td>\n",
       "      <td>0.075</td>\n",
       "      <td>0.023</td>\n",
       "      <td>10.87</td>\n",
       "    </tr>\n",
       "    <tr>\n",
       "      <th>5</th>\n",
       "      <td>stage 2</td>\n",
       "      <td>50</td>\n",
       "      <td>0.635</td>\n",
       "      <td>0.023</td>\n",
       "      <td>10.87</td>\n",
       "    </tr>\n",
       "    <tr>\n",
       "      <th>6</th>\n",
       "      <td>stage 2</td>\n",
       "      <td>75</td>\n",
       "      <td>1.203</td>\n",
       "      <td>0.024</td>\n",
       "      <td>10.42</td>\n",
       "    </tr>\n",
       "    <tr>\n",
       "      <th>7</th>\n",
       "      <td>stage 2</td>\n",
       "      <td>100</td>\n",
       "      <td>1.774</td>\n",
       "      <td>0.023</td>\n",
       "      <td>10.87</td>\n",
       "    </tr>\n",
       "    <tr>\n",
       "      <th>8</th>\n",
       "      <td>stage 3</td>\n",
       "      <td>25</td>\n",
       "      <td>0.055</td>\n",
       "      <td>0.017</td>\n",
       "      <td>14.71</td>\n",
       "    </tr>\n",
       "    <tr>\n",
       "      <th>9</th>\n",
       "      <td>stage 3</td>\n",
       "      <td>50</td>\n",
       "      <td>0.469</td>\n",
       "      <td>0.017</td>\n",
       "      <td>14.71</td>\n",
       "    </tr>\n",
       "    <tr>\n",
       "      <th>10</th>\n",
       "      <td>stage 3</td>\n",
       "      <td>75</td>\n",
       "      <td>0.883</td>\n",
       "      <td>0.017</td>\n",
       "      <td>14.71</td>\n",
       "    </tr>\n",
       "    <tr>\n",
       "      <th>11</th>\n",
       "      <td>stage 3</td>\n",
       "      <td>100</td>\n",
       "      <td>1.296</td>\n",
       "      <td>0.017</td>\n",
       "      <td>14.71</td>\n",
       "    </tr>\n",
       "  </tbody>\n",
       "</table>\n",
       "</div>"
      ],
      "text/plain": [
       "     stages  position $x$ in cm  arrival time $t$ in s  \\\n",
       "0   stage 1                  25                  0.118   \n",
       "1   stage 1                  50                  1.048   \n",
       "2   stage 1                  75                  2.017   \n",
       "3   stage 1                 100                  3.003   \n",
       "4   stage 2                  25                  0.075   \n",
       "5   stage 2                  50                  0.635   \n",
       "6   stage 2                  75                  1.203   \n",
       "7   stage 2                 100                  1.774   \n",
       "8   stage 3                  25                  0.055   \n",
       "9   stage 3                  50                  0.469   \n",
       "10  stage 3                  75                  0.883   \n",
       "11  stage 3                 100                  1.296   \n",
       "\n",
       "    black-out time $\\Delta t$ in s  Velocity $v$ in m/s  \n",
       "0                            0.035                 7.14  \n",
       "1                            0.036                 6.94  \n",
       "2                            0.037                 6.76  \n",
       "3                            0.036                 6.94  \n",
       "4                            0.023                10.87  \n",
       "5                            0.023                10.87  \n",
       "6                            0.024                10.42  \n",
       "7                            0.023                10.87  \n",
       "8                            0.017                14.71  \n",
       "9                            0.017                14.71  \n",
       "10                           0.017                14.71  \n",
       "11                           0.017                14.71  "
      ]
     },
     "execution_count": 65,
     "metadata": {},
     "output_type": "execute_result"
    }
   ],
   "source": [
    "#calculating velocities for task 2 table:\n",
    "\n",
    "df['velocity'] = 25/(df['black_out_time']*100)\n",
    "#df['velocity'] = df['position']/(df['arrival_time']*100) ?? *100 to convert to meters // use this or above?\n",
    "df['velocity'] = df['velocity'].round(2)\n",
    "\n",
    "#calculating velocities for task 3 table:\n",
    "df2['velocity'] = 15/(df2['black_out_time']*100)\n",
    "#df2['velocity'] = df2['position']/(df2['black_out_time']*100)?? use this or above?\n",
    "df2['velocity'] = df2['velocity'].round(2)\n",
    "\n",
    "#creating a copy of dataframe to question 1 df\n",
    "df_question1 = df.rename(columns= {'Task 2': 'stages',\n",
    "                            'position': 'position $x$ in cm',\n",
    "                            'arrival_time':'arrival time $t$ in s',\n",
    "                            'black_out_time':'black-out time $\\Delta t$ in s',\n",
    "                            'velocity':'Velocity $v$ in m/s'})\n",
    "df_question1"
   ]
  },
  {
   "cell_type": "markdown",
   "metadata": {},
   "source": [
    "<h4 style ='text-align:center;' >Figure 1: Task 2 table - Calculated velocities</h4>\n",
    "\n",
    ">"
   ]
  },
  {
   "cell_type": "code",
   "execution_count": 68,
   "metadata": {},
   "outputs": [
    {
     "data": {
      "text/html": [
       "<div>\n",
       "<style scoped>\n",
       "    .dataframe tbody tr th:only-of-type {\n",
       "        vertical-align: middle;\n",
       "    }\n",
       "\n",
       "    .dataframe tbody tr th {\n",
       "        vertical-align: top;\n",
       "    }\n",
       "\n",
       "    .dataframe thead th {\n",
       "        text-align: right;\n",
       "    }\n",
       "</style>\n",
       "<table border=\"1\" class=\"dataframe\">\n",
       "  <thead>\n",
       "    <tr style=\"text-align: right;\">\n",
       "      <th></th>\n",
       "      <th>stages</th>\n",
       "      <th>position $x$ in cm</th>\n",
       "      <th>arrival time $t$ in s</th>\n",
       "      <th>black-out time $\\Delta t$ in s</th>\n",
       "      <th>Velocity $v$ in m/s</th>\n",
       "    </tr>\n",
       "  </thead>\n",
       "  <tbody>\n",
       "    <tr>\n",
       "      <th>0</th>\n",
       "      <td>pull 20 g, cart</td>\n",
       "      <td>22</td>\n",
       "      <td>0.262</td>\n",
       "      <td>0.093</td>\n",
       "      <td>1.61</td>\n",
       "    </tr>\n",
       "    <tr>\n",
       "      <th>1</th>\n",
       "      <td>pull 20 g, cart</td>\n",
       "      <td>37</td>\n",
       "      <td>0.927</td>\n",
       "      <td>0.029</td>\n",
       "      <td>5.17</td>\n",
       "    </tr>\n",
       "    <tr>\n",
       "      <th>2</th>\n",
       "      <td>pull 20 g, cart</td>\n",
       "      <td>52</td>\n",
       "      <td>1.288</td>\n",
       "      <td>0.021</td>\n",
       "      <td>7.14</td>\n",
       "    </tr>\n",
       "    <tr>\n",
       "      <th>3</th>\n",
       "      <td>pull 20 g, cart</td>\n",
       "      <td>67</td>\n",
       "      <td>1.555</td>\n",
       "      <td>0.017</td>\n",
       "      <td>8.82</td>\n",
       "    </tr>\n",
       "    <tr>\n",
       "      <th>4</th>\n",
       "      <td>pull 40 g, cart</td>\n",
       "      <td>22</td>\n",
       "      <td>0.174</td>\n",
       "      <td>0.059</td>\n",
       "      <td>2.54</td>\n",
       "    </tr>\n",
       "    <tr>\n",
       "      <th>5</th>\n",
       "      <td>pull 40 g, cart</td>\n",
       "      <td>37</td>\n",
       "      <td>0.631</td>\n",
       "      <td>0.021</td>\n",
       "      <td>7.14</td>\n",
       "    </tr>\n",
       "    <tr>\n",
       "      <th>6</th>\n",
       "      <td>pull 40 g, cart</td>\n",
       "      <td>52</td>\n",
       "      <td>0.882</td>\n",
       "      <td>0.015</td>\n",
       "      <td>10.00</td>\n",
       "    </tr>\n",
       "    <tr>\n",
       "      <th>7</th>\n",
       "      <td>pull 40 g, cart</td>\n",
       "      <td>67</td>\n",
       "      <td>1.075</td>\n",
       "      <td>0.013</td>\n",
       "      <td>11.54</td>\n",
       "    </tr>\n",
       "    <tr>\n",
       "      <th>8</th>\n",
       "      <td>pull 20 g, cart + 200 g</td>\n",
       "      <td>22</td>\n",
       "      <td>0.256</td>\n",
       "      <td>0.094</td>\n",
       "      <td>1.60</td>\n",
       "    </tr>\n",
       "    <tr>\n",
       "      <th>9</th>\n",
       "      <td>pull 20 g, cart + 200 g</td>\n",
       "      <td>37</td>\n",
       "      <td>1.016</td>\n",
       "      <td>0.035</td>\n",
       "      <td>4.29</td>\n",
       "    </tr>\n",
       "    <tr>\n",
       "      <th>10</th>\n",
       "      <td>pull 20 g, cart + 200 g</td>\n",
       "      <td>52</td>\n",
       "      <td>1.434</td>\n",
       "      <td>0.025</td>\n",
       "      <td>6.00</td>\n",
       "    </tr>\n",
       "    <tr>\n",
       "      <th>11</th>\n",
       "      <td>pull 20 g, cart + 200 g</td>\n",
       "      <td>67</td>\n",
       "      <td>1.760</td>\n",
       "      <td>0.021</td>\n",
       "      <td>7.14</td>\n",
       "    </tr>\n",
       "    <tr>\n",
       "      <th>12</th>\n",
       "      <td>pull 40 g, cart + 200 g</td>\n",
       "      <td>22</td>\n",
       "      <td>0.197</td>\n",
       "      <td>0.084</td>\n",
       "      <td>1.79</td>\n",
       "    </tr>\n",
       "    <tr>\n",
       "      <th>13</th>\n",
       "      <td>pull 40 g, cart + 200 g</td>\n",
       "      <td>37</td>\n",
       "      <td>0.748</td>\n",
       "      <td>0.026</td>\n",
       "      <td>5.77</td>\n",
       "    </tr>\n",
       "    <tr>\n",
       "      <th>14</th>\n",
       "      <td>pull 40 g, cart + 200 g</td>\n",
       "      <td>52</td>\n",
       "      <td>1.046</td>\n",
       "      <td>0.018</td>\n",
       "      <td>8.33</td>\n",
       "    </tr>\n",
       "    <tr>\n",
       "      <th>15</th>\n",
       "      <td>pull 40 g, cart + 200 g</td>\n",
       "      <td>67</td>\n",
       "      <td>1.290</td>\n",
       "      <td>0.015</td>\n",
       "      <td>10.00</td>\n",
       "    </tr>\n",
       "  </tbody>\n",
       "</table>\n",
       "</div>"
      ],
      "text/plain": [
       "                     stages  position $x$ in cm  arrival time $t$ in s  \\\n",
       "0           pull 20 g, cart                  22                  0.262   \n",
       "1           pull 20 g, cart                  37                  0.927   \n",
       "2           pull 20 g, cart                  52                  1.288   \n",
       "3           pull 20 g, cart                  67                  1.555   \n",
       "4           pull 40 g, cart                  22                  0.174   \n",
       "5           pull 40 g, cart                  37                  0.631   \n",
       "6           pull 40 g, cart                  52                  0.882   \n",
       "7           pull 40 g, cart                  67                  1.075   \n",
       "8   pull 20 g, cart + 200 g                  22                  0.256   \n",
       "9   pull 20 g, cart + 200 g                  37                  1.016   \n",
       "10  pull 20 g, cart + 200 g                  52                  1.434   \n",
       "11  pull 20 g, cart + 200 g                  67                  1.760   \n",
       "12  pull 40 g, cart + 200 g                  22                  0.197   \n",
       "13  pull 40 g, cart + 200 g                  37                  0.748   \n",
       "14  pull 40 g, cart + 200 g                  52                  1.046   \n",
       "15  pull 40 g, cart + 200 g                  67                  1.290   \n",
       "\n",
       "    black-out time $\\Delta t$ in s  Velocity $v$ in m/s  \n",
       "0                            0.093                 1.61  \n",
       "1                            0.029                 5.17  \n",
       "2                            0.021                 7.14  \n",
       "3                            0.017                 8.82  \n",
       "4                            0.059                 2.54  \n",
       "5                            0.021                 7.14  \n",
       "6                            0.015                10.00  \n",
       "7                            0.013                11.54  \n",
       "8                            0.094                 1.60  \n",
       "9                            0.035                 4.29  \n",
       "10                           0.025                 6.00  \n",
       "11                           0.021                 7.14  \n",
       "12                           0.084                 1.79  \n",
       "13                           0.026                 5.77  \n",
       "14                           0.018                 8.33  \n",
       "15                           0.015                10.00  "
      ]
     },
     "execution_count": 68,
     "metadata": {},
     "output_type": "execute_result"
    }
   ],
   "source": [
    "df_question1_1 = df2.rename(columns= {'position': 'position $x$ in cm',\n",
    "                                      'arrival_time':'arrival time $t$ in s',\n",
    "                                      'black_out_time':'black-out time $\\Delta t$ in s',\n",
    "                                      'velocity':'Velocity $v$ in m/s'})\n",
    "df_question1_1"
   ]
  },
  {
   "cell_type": "markdown",
   "metadata": {},
   "source": [
    "<h4 style ='text-align:center;' >Figure 2: Task 3 table - Calculated velocities</h4>\n",
    "\n",
    ">"
   ]
  },
  {
   "cell_type": "markdown",
   "metadata": {},
   "source": [
    "### Q: Plot the position x(t) as a function of the arrival time based on the data 1.2 and 2.2. Calculate and plot the velocity v(t) based on the data 1.3 and 2.3.\n",
    ">"
   ]
  },
  {
   "cell_type": "code",
   "execution_count": 69,
   "metadata": {},
   "outputs": [
    {
     "data": {
      "application/vnd.plotly.v1+json": {
       "config": {
        "plotlyServerURL": "https://plot.ly"
       },
       "data": [
        {
         "error_x": {
          "array": [
           0.00295,
           0.0262,
           0.050425,
           0.075075
          ]
         },
         "error_y": {
          "array": [
           0.1475,
           1.31,
           2.5212499999999998,
           3.75375
          ]
         },
         "hovertemplate": "stages=stage 1<br>arrival_time=%{x}<br>position=%{y}<extra></extra>",
         "legendgroup": "stage 1",
         "marker": {
          "color": "#636efa",
          "symbol": "circle"
         },
         "mode": "markers",
         "name": "stage 1",
         "orientation": "v",
         "showlegend": true,
         "type": "scatter",
         "x": [
          0.118,
          1.048,
          2.017,
          3.003
         ],
         "xaxis": "x",
         "y": [
          25,
          50,
          75,
          100
         ],
         "yaxis": "y"
        },
        {
         "error_x": {
          "array": [
           0.001875,
           0.015875,
           0.030075,
           0.04435
          ]
         },
         "error_y": {
          "array": [
           0.09374999999999999,
           0.79375,
           1.50375,
           2.2175
          ]
         },
         "hovertemplate": "stages=stage 2<br>arrival_time=%{x}<br>position=%{y}<extra></extra>",
         "legendgroup": "stage 2",
         "marker": {
          "color": "#EF553B",
          "symbol": "diamond"
         },
         "mode": "markers",
         "name": "stage 2",
         "orientation": "v",
         "showlegend": true,
         "type": "scatter",
         "x": [
          0.075,
          0.635,
          1.203,
          1.774
         ],
         "xaxis": "x",
         "y": [
          25,
          50,
          75,
          100
         ],
         "yaxis": "y"
        },
        {
         "error_x": {
          "array": [
           0.001375,
           0.011725,
           0.022075,
           0.0324
          ]
         },
         "error_y": {
          "array": [
           0.06874999999999999,
           0.5862499999999999,
           1.10375,
           1.6199999999999999
          ]
         },
         "hovertemplate": "stages=stage 3<br>arrival_time=%{x}<br>position=%{y}<extra></extra>",
         "legendgroup": "stage 3",
         "marker": {
          "color": "#00cc96",
          "symbol": "square"
         },
         "mode": "markers",
         "name": "stage 3",
         "orientation": "v",
         "showlegend": true,
         "type": "scatter",
         "x": [
          0.055,
          0.469,
          0.883,
          1.296
         ],
         "xaxis": "x",
         "y": [
          25,
          50,
          75,
          100
         ],
         "yaxis": "y"
        },
        {
         "hovertemplate": "stages=Regression Stage 1<br>arrival_time=%{x}<br>position=%{y}<extra></extra>",
         "legendgroup": "Regression Stage 1",
         "marker": {
          "color": "#636efa",
          "symbol": 141
         },
         "mode": "markers",
         "name": "Regression Stage 1",
         "orientation": "v",
         "showlegend": true,
         "type": "scatter",
         "x": [
          0.118,
          1.048,
          2.017,
          3.003
         ],
         "xaxis": "x",
         "y": [
          25,
          50,
          75,
          100
         ],
         "yaxis": "y"
        },
        {
         "hovertemplate": "<b>OLS trendline</b><br>position = 25.9722 * arrival_time + 22.334<br>R<sup>2</sup>=0.999826<br><br>stages=Regression Stage 1<br>arrival_time=%{x}<br>position=%{y} <b>(trend)</b><extra></extra>",
         "legendgroup": "Regression Stage 1",
         "marker": {
          "color": "#636efa",
          "symbol": 141
         },
         "mode": "lines",
         "name": "Regression Stage 1",
         "showlegend": false,
         "type": "scatter",
         "x": [
          0.118,
          1.048,
          2.017,
          3.003
         ],
         "xaxis": "x",
         "y": [
          25.398723346928254,
          49.55286215501836,
          74.71991646151223,
          100.3284980365411
         ],
         "yaxis": "y"
        },
        {
         "hovertemplate": "stages=Regression Stage 2<br>arrival_time=%{x}<br>position=%{y}<extra></extra>",
         "legendgroup": "Regression Stage 2",
         "marker": {
          "color": "#EF553B",
          "symbol": 141
         },
         "mode": "markers",
         "name": "Regression Stage 2",
         "orientation": "v",
         "showlegend": true,
         "type": "scatter",
         "x": [
          0.075,
          0.635,
          1.203,
          1.774
         ],
         "xaxis": "x",
         "y": [
          25,
          50,
          75,
          100
         ],
         "yaxis": "y"
        },
        {
         "hovertemplate": "<b>OLS trendline</b><br>position = 44.1298 * arrival_time + 21.8234<br>R<sup>2</sup>=0.999980<br><br>stages=Regression Stage 2<br>arrival_time=%{x}<br>position=%{y} <b>(trend)</b><extra></extra>",
         "legendgroup": "Regression Stage 2",
         "marker": {
          "color": "#EF553B",
          "symbol": 141
         },
         "mode": "lines",
         "name": "Regression Stage 2",
         "showlegend": false,
         "type": "scatter",
         "x": [
          0.075,
          0.635,
          1.203,
          1.774
         ],
         "xaxis": "x",
         "y": [
          25.1331254262047,
          49.84579122050688,
          74.9114950975848,
          100.10958825570364
         ],
         "yaxis": "y"
        },
        {
         "hovertemplate": "stages=Regression Stage 3<br>arrival_time=%{x}<br>position=%{y}<extra></extra>",
         "legendgroup": "Regression Stage 3",
         "marker": {
          "color": "#00cc96",
          "symbol": 141
         },
         "mode": "markers",
         "name": "Regression Stage 3",
         "orientation": "v",
         "showlegend": true,
         "type": "scatter",
         "x": [
          0.055,
          0.469,
          0.883,
          1.296
         ],
         "xaxis": "x",
         "y": [
          25,
          50,
          75,
          100
         ],
         "yaxis": "y"
        },
        {
         "hovertemplate": "<b>OLS trendline</b><br>position = 60.4302 * arrival_time + 21.6643<br>R<sup>2</sup>=1.000000<br><br>stages=Regression Stage 3<br>arrival_time=%{x}<br>position=%{y} <b>(trend)</b><extra></extra>",
         "legendgroup": "Regression Stage 3",
         "marker": {
          "color": "#00cc96",
          "symbol": 141
         },
         "mode": "lines",
         "name": "Regression Stage 3",
         "showlegend": false,
         "type": "scatter",
         "x": [
          0.055,
          0.469,
          0.883,
          1.296
         ],
         "xaxis": "x",
         "y": [
          24.987927098077545,
          50.00604740640763,
          75.02416771473771,
          99.98185778077715
         ],
         "yaxis": "y"
        }
       ],
       "layout": {
        "template": {
         "data": {
          "bar": [
           {
            "error_x": {
             "color": "#2a3f5f"
            },
            "error_y": {
             "color": "#2a3f5f"
            },
            "marker": {
             "line": {
              "color": "#E5ECF6",
              "width": 0.5
             },
             "pattern": {
              "fillmode": "overlay",
              "size": 10,
              "solidity": 0.2
             }
            },
            "type": "bar"
           }
          ],
          "barpolar": [
           {
            "marker": {
             "line": {
              "color": "#E5ECF6",
              "width": 0.5
             },
             "pattern": {
              "fillmode": "overlay",
              "size": 10,
              "solidity": 0.2
             }
            },
            "type": "barpolar"
           }
          ],
          "carpet": [
           {
            "aaxis": {
             "endlinecolor": "#2a3f5f",
             "gridcolor": "white",
             "linecolor": "white",
             "minorgridcolor": "white",
             "startlinecolor": "#2a3f5f"
            },
            "baxis": {
             "endlinecolor": "#2a3f5f",
             "gridcolor": "white",
             "linecolor": "white",
             "minorgridcolor": "white",
             "startlinecolor": "#2a3f5f"
            },
            "type": "carpet"
           }
          ],
          "choropleth": [
           {
            "colorbar": {
             "outlinewidth": 0,
             "ticks": ""
            },
            "type": "choropleth"
           }
          ],
          "contour": [
           {
            "colorbar": {
             "outlinewidth": 0,
             "ticks": ""
            },
            "colorscale": [
             [
              0,
              "#0d0887"
             ],
             [
              0.1111111111111111,
              "#46039f"
             ],
             [
              0.2222222222222222,
              "#7201a8"
             ],
             [
              0.3333333333333333,
              "#9c179e"
             ],
             [
              0.4444444444444444,
              "#bd3786"
             ],
             [
              0.5555555555555556,
              "#d8576b"
             ],
             [
              0.6666666666666666,
              "#ed7953"
             ],
             [
              0.7777777777777778,
              "#fb9f3a"
             ],
             [
              0.8888888888888888,
              "#fdca26"
             ],
             [
              1,
              "#f0f921"
             ]
            ],
            "type": "contour"
           }
          ],
          "contourcarpet": [
           {
            "colorbar": {
             "outlinewidth": 0,
             "ticks": ""
            },
            "type": "contourcarpet"
           }
          ],
          "heatmap": [
           {
            "colorbar": {
             "outlinewidth": 0,
             "ticks": ""
            },
            "colorscale": [
             [
              0,
              "#0d0887"
             ],
             [
              0.1111111111111111,
              "#46039f"
             ],
             [
              0.2222222222222222,
              "#7201a8"
             ],
             [
              0.3333333333333333,
              "#9c179e"
             ],
             [
              0.4444444444444444,
              "#bd3786"
             ],
             [
              0.5555555555555556,
              "#d8576b"
             ],
             [
              0.6666666666666666,
              "#ed7953"
             ],
             [
              0.7777777777777778,
              "#fb9f3a"
             ],
             [
              0.8888888888888888,
              "#fdca26"
             ],
             [
              1,
              "#f0f921"
             ]
            ],
            "type": "heatmap"
           }
          ],
          "heatmapgl": [
           {
            "colorbar": {
             "outlinewidth": 0,
             "ticks": ""
            },
            "colorscale": [
             [
              0,
              "#0d0887"
             ],
             [
              0.1111111111111111,
              "#46039f"
             ],
             [
              0.2222222222222222,
              "#7201a8"
             ],
             [
              0.3333333333333333,
              "#9c179e"
             ],
             [
              0.4444444444444444,
              "#bd3786"
             ],
             [
              0.5555555555555556,
              "#d8576b"
             ],
             [
              0.6666666666666666,
              "#ed7953"
             ],
             [
              0.7777777777777778,
              "#fb9f3a"
             ],
             [
              0.8888888888888888,
              "#fdca26"
             ],
             [
              1,
              "#f0f921"
             ]
            ],
            "type": "heatmapgl"
           }
          ],
          "histogram": [
           {
            "marker": {
             "pattern": {
              "fillmode": "overlay",
              "size": 10,
              "solidity": 0.2
             }
            },
            "type": "histogram"
           }
          ],
          "histogram2d": [
           {
            "colorbar": {
             "outlinewidth": 0,
             "ticks": ""
            },
            "colorscale": [
             [
              0,
              "#0d0887"
             ],
             [
              0.1111111111111111,
              "#46039f"
             ],
             [
              0.2222222222222222,
              "#7201a8"
             ],
             [
              0.3333333333333333,
              "#9c179e"
             ],
             [
              0.4444444444444444,
              "#bd3786"
             ],
             [
              0.5555555555555556,
              "#d8576b"
             ],
             [
              0.6666666666666666,
              "#ed7953"
             ],
             [
              0.7777777777777778,
              "#fb9f3a"
             ],
             [
              0.8888888888888888,
              "#fdca26"
             ],
             [
              1,
              "#f0f921"
             ]
            ],
            "type": "histogram2d"
           }
          ],
          "histogram2dcontour": [
           {
            "colorbar": {
             "outlinewidth": 0,
             "ticks": ""
            },
            "colorscale": [
             [
              0,
              "#0d0887"
             ],
             [
              0.1111111111111111,
              "#46039f"
             ],
             [
              0.2222222222222222,
              "#7201a8"
             ],
             [
              0.3333333333333333,
              "#9c179e"
             ],
             [
              0.4444444444444444,
              "#bd3786"
             ],
             [
              0.5555555555555556,
              "#d8576b"
             ],
             [
              0.6666666666666666,
              "#ed7953"
             ],
             [
              0.7777777777777778,
              "#fb9f3a"
             ],
             [
              0.8888888888888888,
              "#fdca26"
             ],
             [
              1,
              "#f0f921"
             ]
            ],
            "type": "histogram2dcontour"
           }
          ],
          "mesh3d": [
           {
            "colorbar": {
             "outlinewidth": 0,
             "ticks": ""
            },
            "type": "mesh3d"
           }
          ],
          "parcoords": [
           {
            "line": {
             "colorbar": {
              "outlinewidth": 0,
              "ticks": ""
             }
            },
            "type": "parcoords"
           }
          ],
          "pie": [
           {
            "automargin": true,
            "type": "pie"
           }
          ],
          "scatter": [
           {
            "fillpattern": {
             "fillmode": "overlay",
             "size": 10,
             "solidity": 0.2
            },
            "type": "scatter"
           }
          ],
          "scatter3d": [
           {
            "line": {
             "colorbar": {
              "outlinewidth": 0,
              "ticks": ""
             }
            },
            "marker": {
             "colorbar": {
              "outlinewidth": 0,
              "ticks": ""
             }
            },
            "type": "scatter3d"
           }
          ],
          "scattercarpet": [
           {
            "marker": {
             "colorbar": {
              "outlinewidth": 0,
              "ticks": ""
             }
            },
            "type": "scattercarpet"
           }
          ],
          "scattergeo": [
           {
            "marker": {
             "colorbar": {
              "outlinewidth": 0,
              "ticks": ""
             }
            },
            "type": "scattergeo"
           }
          ],
          "scattergl": [
           {
            "marker": {
             "colorbar": {
              "outlinewidth": 0,
              "ticks": ""
             }
            },
            "type": "scattergl"
           }
          ],
          "scattermapbox": [
           {
            "marker": {
             "colorbar": {
              "outlinewidth": 0,
              "ticks": ""
             }
            },
            "type": "scattermapbox"
           }
          ],
          "scatterpolar": [
           {
            "marker": {
             "colorbar": {
              "outlinewidth": 0,
              "ticks": ""
             }
            },
            "type": "scatterpolar"
           }
          ],
          "scatterpolargl": [
           {
            "marker": {
             "colorbar": {
              "outlinewidth": 0,
              "ticks": ""
             }
            },
            "type": "scatterpolargl"
           }
          ],
          "scatterternary": [
           {
            "marker": {
             "colorbar": {
              "outlinewidth": 0,
              "ticks": ""
             }
            },
            "type": "scatterternary"
           }
          ],
          "surface": [
           {
            "colorbar": {
             "outlinewidth": 0,
             "ticks": ""
            },
            "colorscale": [
             [
              0,
              "#0d0887"
             ],
             [
              0.1111111111111111,
              "#46039f"
             ],
             [
              0.2222222222222222,
              "#7201a8"
             ],
             [
              0.3333333333333333,
              "#9c179e"
             ],
             [
              0.4444444444444444,
              "#bd3786"
             ],
             [
              0.5555555555555556,
              "#d8576b"
             ],
             [
              0.6666666666666666,
              "#ed7953"
             ],
             [
              0.7777777777777778,
              "#fb9f3a"
             ],
             [
              0.8888888888888888,
              "#fdca26"
             ],
             [
              1,
              "#f0f921"
             ]
            ],
            "type": "surface"
           }
          ],
          "table": [
           {
            "cells": {
             "fill": {
              "color": "#EBF0F8"
             },
             "line": {
              "color": "white"
             }
            },
            "header": {
             "fill": {
              "color": "#C8D4E3"
             },
             "line": {
              "color": "white"
             }
            },
            "type": "table"
           }
          ]
         },
         "layout": {
          "annotationdefaults": {
           "arrowcolor": "#2a3f5f",
           "arrowhead": 0,
           "arrowwidth": 1
          },
          "autotypenumbers": "strict",
          "coloraxis": {
           "colorbar": {
            "outlinewidth": 0,
            "ticks": ""
           }
          },
          "colorscale": {
           "diverging": [
            [
             0,
             "#8e0152"
            ],
            [
             0.1,
             "#c51b7d"
            ],
            [
             0.2,
             "#de77ae"
            ],
            [
             0.3,
             "#f1b6da"
            ],
            [
             0.4,
             "#fde0ef"
            ],
            [
             0.5,
             "#f7f7f7"
            ],
            [
             0.6,
             "#e6f5d0"
            ],
            [
             0.7,
             "#b8e186"
            ],
            [
             0.8,
             "#7fbc41"
            ],
            [
             0.9,
             "#4d9221"
            ],
            [
             1,
             "#276419"
            ]
           ],
           "sequential": [
            [
             0,
             "#0d0887"
            ],
            [
             0.1111111111111111,
             "#46039f"
            ],
            [
             0.2222222222222222,
             "#7201a8"
            ],
            [
             0.3333333333333333,
             "#9c179e"
            ],
            [
             0.4444444444444444,
             "#bd3786"
            ],
            [
             0.5555555555555556,
             "#d8576b"
            ],
            [
             0.6666666666666666,
             "#ed7953"
            ],
            [
             0.7777777777777778,
             "#fb9f3a"
            ],
            [
             0.8888888888888888,
             "#fdca26"
            ],
            [
             1,
             "#f0f921"
            ]
           ],
           "sequentialminus": [
            [
             0,
             "#0d0887"
            ],
            [
             0.1111111111111111,
             "#46039f"
            ],
            [
             0.2222222222222222,
             "#7201a8"
            ],
            [
             0.3333333333333333,
             "#9c179e"
            ],
            [
             0.4444444444444444,
             "#bd3786"
            ],
            [
             0.5555555555555556,
             "#d8576b"
            ],
            [
             0.6666666666666666,
             "#ed7953"
            ],
            [
             0.7777777777777778,
             "#fb9f3a"
            ],
            [
             0.8888888888888888,
             "#fdca26"
            ],
            [
             1,
             "#f0f921"
            ]
           ]
          },
          "colorway": [
           "#636efa",
           "#EF553B",
           "#00cc96",
           "#ab63fa",
           "#FFA15A",
           "#19d3f3",
           "#FF6692",
           "#B6E880",
           "#FF97FF",
           "#FECB52"
          ],
          "font": {
           "color": "#2a3f5f"
          },
          "geo": {
           "bgcolor": "white",
           "lakecolor": "white",
           "landcolor": "#E5ECF6",
           "showlakes": true,
           "showland": true,
           "subunitcolor": "white"
          },
          "hoverlabel": {
           "align": "left"
          },
          "hovermode": "closest",
          "mapbox": {
           "style": "light"
          },
          "paper_bgcolor": "white",
          "plot_bgcolor": "#E5ECF6",
          "polar": {
           "angularaxis": {
            "gridcolor": "white",
            "linecolor": "white",
            "ticks": ""
           },
           "bgcolor": "#E5ECF6",
           "radialaxis": {
            "gridcolor": "white",
            "linecolor": "white",
            "ticks": ""
           }
          },
          "scene": {
           "xaxis": {
            "backgroundcolor": "#E5ECF6",
            "gridcolor": "white",
            "gridwidth": 2,
            "linecolor": "white",
            "showbackground": true,
            "ticks": "",
            "zerolinecolor": "white"
           },
           "yaxis": {
            "backgroundcolor": "#E5ECF6",
            "gridcolor": "white",
            "gridwidth": 2,
            "linecolor": "white",
            "showbackground": true,
            "ticks": "",
            "zerolinecolor": "white"
           },
           "zaxis": {
            "backgroundcolor": "#E5ECF6",
            "gridcolor": "white",
            "gridwidth": 2,
            "linecolor": "white",
            "showbackground": true,
            "ticks": "",
            "zerolinecolor": "white"
           }
          },
          "shapedefaults": {
           "line": {
            "color": "#2a3f5f"
           }
          },
          "ternary": {
           "aaxis": {
            "gridcolor": "white",
            "linecolor": "white",
            "ticks": ""
           },
           "baxis": {
            "gridcolor": "white",
            "linecolor": "white",
            "ticks": ""
           },
           "bgcolor": "#E5ECF6",
           "caxis": {
            "gridcolor": "white",
            "linecolor": "white",
            "ticks": ""
           }
          },
          "title": {
           "x": 0.05
          },
          "xaxis": {
           "automargin": true,
           "gridcolor": "white",
           "linecolor": "white",
           "ticks": "",
           "title": {
            "standoff": 15
           },
           "zerolinecolor": "white",
           "zerolinewidth": 2
          },
          "yaxis": {
           "automargin": true,
           "gridcolor": "white",
           "linecolor": "white",
           "ticks": "",
           "title": {
            "standoff": 15
           },
           "zerolinecolor": "white",
           "zerolinewidth": 2
          }
         }
        },
        "xaxis": {
         "title": {
          "text": "$ \\text{arrival time } t \\text{ in s}$"
         }
        },
        "yaxis": {
         "title": {
          "text": "$ \\text{position } x \\text{ in cm}$"
         }
        }
       }
      },
      "text/html": [
       "<div>                            <div id=\"3b60619d-a83a-494d-ad40-61b593a673cd\" class=\"plotly-graph-div\" style=\"height:525px; width:100%;\"></div>            <script type=\"text/javascript\">                require([\"plotly\"], function(Plotly) {                    window.PLOTLYENV=window.PLOTLYENV || {};                                    if (document.getElementById(\"3b60619d-a83a-494d-ad40-61b593a673cd\")) {                    Plotly.newPlot(                        \"3b60619d-a83a-494d-ad40-61b593a673cd\",                        [{\"error_x\":{\"array\":[0.00295,0.0262,0.050425,0.075075]},\"error_y\":{\"array\":[0.1475,1.31,2.5212499999999998,3.75375]},\"hovertemplate\":\"stages=stage 1<br>arrival_time=%{x}<br>position=%{y}<extra></extra>\",\"legendgroup\":\"stage 1\",\"marker\":{\"color\":\"#636efa\",\"symbol\":\"circle\"},\"mode\":\"markers\",\"name\":\"stage 1\",\"orientation\":\"v\",\"showlegend\":true,\"x\":[0.118,1.048,2.017,3.003],\"xaxis\":\"x\",\"y\":[25,50,75,100],\"yaxis\":\"y\",\"type\":\"scatter\"},{\"error_x\":{\"array\":[0.001875,0.015875,0.030075,0.04435]},\"error_y\":{\"array\":[0.09374999999999999,0.79375,1.50375,2.2175]},\"hovertemplate\":\"stages=stage 2<br>arrival_time=%{x}<br>position=%{y}<extra></extra>\",\"legendgroup\":\"stage 2\",\"marker\":{\"color\":\"#EF553B\",\"symbol\":\"diamond\"},\"mode\":\"markers\",\"name\":\"stage 2\",\"orientation\":\"v\",\"showlegend\":true,\"x\":[0.075,0.635,1.203,1.774],\"xaxis\":\"x\",\"y\":[25,50,75,100],\"yaxis\":\"y\",\"type\":\"scatter\"},{\"error_x\":{\"array\":[0.001375,0.011725,0.022075,0.0324]},\"error_y\":{\"array\":[0.06874999999999999,0.5862499999999999,1.10375,1.6199999999999999]},\"hovertemplate\":\"stages=stage 3<br>arrival_time=%{x}<br>position=%{y}<extra></extra>\",\"legendgroup\":\"stage 3\",\"marker\":{\"color\":\"#00cc96\",\"symbol\":\"square\"},\"mode\":\"markers\",\"name\":\"stage 3\",\"orientation\":\"v\",\"showlegend\":true,\"x\":[0.055,0.469,0.883,1.296],\"xaxis\":\"x\",\"y\":[25,50,75,100],\"yaxis\":\"y\",\"type\":\"scatter\"},{\"hovertemplate\":\"stages=Regression Stage 1<br>arrival_time=%{x}<br>position=%{y}<extra></extra>\",\"legendgroup\":\"Regression Stage 1\",\"marker\":{\"color\":\"#636efa\",\"symbol\":141},\"mode\":\"markers\",\"name\":\"Regression Stage 1\",\"orientation\":\"v\",\"showlegend\":true,\"x\":[0.118,1.048,2.017,3.003],\"xaxis\":\"x\",\"y\":[25,50,75,100],\"yaxis\":\"y\",\"type\":\"scatter\"},{\"hovertemplate\":\"<b>OLS trendline</b><br>position = 25.9722 * arrival_time + 22.334<br>R<sup>2</sup>=0.999826<br><br>stages=Regression Stage 1<br>arrival_time=%{x}<br>position=%{y} <b>(trend)</b><extra></extra>\",\"legendgroup\":\"Regression Stage 1\",\"marker\":{\"color\":\"#636efa\",\"symbol\":141},\"mode\":\"lines\",\"name\":\"Regression Stage 1\",\"showlegend\":false,\"x\":[0.118,1.048,2.017,3.003],\"xaxis\":\"x\",\"y\":[25.398723346928254,49.55286215501836,74.71991646151223,100.3284980365411],\"yaxis\":\"y\",\"type\":\"scatter\"},{\"hovertemplate\":\"stages=Regression Stage 2<br>arrival_time=%{x}<br>position=%{y}<extra></extra>\",\"legendgroup\":\"Regression Stage 2\",\"marker\":{\"color\":\"#EF553B\",\"symbol\":141},\"mode\":\"markers\",\"name\":\"Regression Stage 2\",\"orientation\":\"v\",\"showlegend\":true,\"x\":[0.075,0.635,1.203,1.774],\"xaxis\":\"x\",\"y\":[25,50,75,100],\"yaxis\":\"y\",\"type\":\"scatter\"},{\"hovertemplate\":\"<b>OLS trendline</b><br>position = 44.1298 * arrival_time + 21.8234<br>R<sup>2</sup>=0.999980<br><br>stages=Regression Stage 2<br>arrival_time=%{x}<br>position=%{y} <b>(trend)</b><extra></extra>\",\"legendgroup\":\"Regression Stage 2\",\"marker\":{\"color\":\"#EF553B\",\"symbol\":141},\"mode\":\"lines\",\"name\":\"Regression Stage 2\",\"showlegend\":false,\"x\":[0.075,0.635,1.203,1.774],\"xaxis\":\"x\",\"y\":[25.1331254262047,49.84579122050688,74.9114950975848,100.10958825570364],\"yaxis\":\"y\",\"type\":\"scatter\"},{\"hovertemplate\":\"stages=Regression Stage 3<br>arrival_time=%{x}<br>position=%{y}<extra></extra>\",\"legendgroup\":\"Regression Stage 3\",\"marker\":{\"color\":\"#00cc96\",\"symbol\":141},\"mode\":\"markers\",\"name\":\"Regression Stage 3\",\"orientation\":\"v\",\"showlegend\":true,\"x\":[0.055,0.469,0.883,1.296],\"xaxis\":\"x\",\"y\":[25,50,75,100],\"yaxis\":\"y\",\"type\":\"scatter\"},{\"hovertemplate\":\"<b>OLS trendline</b><br>position = 60.4302 * arrival_time + 21.6643<br>R<sup>2</sup>=1.000000<br><br>stages=Regression Stage 3<br>arrival_time=%{x}<br>position=%{y} <b>(trend)</b><extra></extra>\",\"legendgroup\":\"Regression Stage 3\",\"marker\":{\"color\":\"#00cc96\",\"symbol\":141},\"mode\":\"lines\",\"name\":\"Regression Stage 3\",\"showlegend\":false,\"x\":[0.055,0.469,0.883,1.296],\"xaxis\":\"x\",\"y\":[24.987927098077545,50.00604740640763,75.02416771473771,99.98185778077715],\"yaxis\":\"y\",\"type\":\"scatter\"}],                        {\"template\":{\"data\":{\"histogram2dcontour\":[{\"type\":\"histogram2dcontour\",\"colorbar\":{\"outlinewidth\":0,\"ticks\":\"\"},\"colorscale\":[[0.0,\"#0d0887\"],[0.1111111111111111,\"#46039f\"],[0.2222222222222222,\"#7201a8\"],[0.3333333333333333,\"#9c179e\"],[0.4444444444444444,\"#bd3786\"],[0.5555555555555556,\"#d8576b\"],[0.6666666666666666,\"#ed7953\"],[0.7777777777777778,\"#fb9f3a\"],[0.8888888888888888,\"#fdca26\"],[1.0,\"#f0f921\"]]}],\"choropleth\":[{\"type\":\"choropleth\",\"colorbar\":{\"outlinewidth\":0,\"ticks\":\"\"}}],\"histogram2d\":[{\"type\":\"histogram2d\",\"colorbar\":{\"outlinewidth\":0,\"ticks\":\"\"},\"colorscale\":[[0.0,\"#0d0887\"],[0.1111111111111111,\"#46039f\"],[0.2222222222222222,\"#7201a8\"],[0.3333333333333333,\"#9c179e\"],[0.4444444444444444,\"#bd3786\"],[0.5555555555555556,\"#d8576b\"],[0.6666666666666666,\"#ed7953\"],[0.7777777777777778,\"#fb9f3a\"],[0.8888888888888888,\"#fdca26\"],[1.0,\"#f0f921\"]]}],\"heatmap\":[{\"type\":\"heatmap\",\"colorbar\":{\"outlinewidth\":0,\"ticks\":\"\"},\"colorscale\":[[0.0,\"#0d0887\"],[0.1111111111111111,\"#46039f\"],[0.2222222222222222,\"#7201a8\"],[0.3333333333333333,\"#9c179e\"],[0.4444444444444444,\"#bd3786\"],[0.5555555555555556,\"#d8576b\"],[0.6666666666666666,\"#ed7953\"],[0.7777777777777778,\"#fb9f3a\"],[0.8888888888888888,\"#fdca26\"],[1.0,\"#f0f921\"]]}],\"heatmapgl\":[{\"type\":\"heatmapgl\",\"colorbar\":{\"outlinewidth\":0,\"ticks\":\"\"},\"colorscale\":[[0.0,\"#0d0887\"],[0.1111111111111111,\"#46039f\"],[0.2222222222222222,\"#7201a8\"],[0.3333333333333333,\"#9c179e\"],[0.4444444444444444,\"#bd3786\"],[0.5555555555555556,\"#d8576b\"],[0.6666666666666666,\"#ed7953\"],[0.7777777777777778,\"#fb9f3a\"],[0.8888888888888888,\"#fdca26\"],[1.0,\"#f0f921\"]]}],\"contourcarpet\":[{\"type\":\"contourcarpet\",\"colorbar\":{\"outlinewidth\":0,\"ticks\":\"\"}}],\"contour\":[{\"type\":\"contour\",\"colorbar\":{\"outlinewidth\":0,\"ticks\":\"\"},\"colorscale\":[[0.0,\"#0d0887\"],[0.1111111111111111,\"#46039f\"],[0.2222222222222222,\"#7201a8\"],[0.3333333333333333,\"#9c179e\"],[0.4444444444444444,\"#bd3786\"],[0.5555555555555556,\"#d8576b\"],[0.6666666666666666,\"#ed7953\"],[0.7777777777777778,\"#fb9f3a\"],[0.8888888888888888,\"#fdca26\"],[1.0,\"#f0f921\"]]}],\"surface\":[{\"type\":\"surface\",\"colorbar\":{\"outlinewidth\":0,\"ticks\":\"\"},\"colorscale\":[[0.0,\"#0d0887\"],[0.1111111111111111,\"#46039f\"],[0.2222222222222222,\"#7201a8\"],[0.3333333333333333,\"#9c179e\"],[0.4444444444444444,\"#bd3786\"],[0.5555555555555556,\"#d8576b\"],[0.6666666666666666,\"#ed7953\"],[0.7777777777777778,\"#fb9f3a\"],[0.8888888888888888,\"#fdca26\"],[1.0,\"#f0f921\"]]}],\"mesh3d\":[{\"type\":\"mesh3d\",\"colorbar\":{\"outlinewidth\":0,\"ticks\":\"\"}}],\"scatter\":[{\"fillpattern\":{\"fillmode\":\"overlay\",\"size\":10,\"solidity\":0.2},\"type\":\"scatter\"}],\"parcoords\":[{\"type\":\"parcoords\",\"line\":{\"colorbar\":{\"outlinewidth\":0,\"ticks\":\"\"}}}],\"scatterpolargl\":[{\"type\":\"scatterpolargl\",\"marker\":{\"colorbar\":{\"outlinewidth\":0,\"ticks\":\"\"}}}],\"bar\":[{\"error_x\":{\"color\":\"#2a3f5f\"},\"error_y\":{\"color\":\"#2a3f5f\"},\"marker\":{\"line\":{\"color\":\"#E5ECF6\",\"width\":0.5},\"pattern\":{\"fillmode\":\"overlay\",\"size\":10,\"solidity\":0.2}},\"type\":\"bar\"}],\"scattergeo\":[{\"type\":\"scattergeo\",\"marker\":{\"colorbar\":{\"outlinewidth\":0,\"ticks\":\"\"}}}],\"scatterpolar\":[{\"type\":\"scatterpolar\",\"marker\":{\"colorbar\":{\"outlinewidth\":0,\"ticks\":\"\"}}}],\"histogram\":[{\"marker\":{\"pattern\":{\"fillmode\":\"overlay\",\"size\":10,\"solidity\":0.2}},\"type\":\"histogram\"}],\"scattergl\":[{\"type\":\"scattergl\",\"marker\":{\"colorbar\":{\"outlinewidth\":0,\"ticks\":\"\"}}}],\"scatter3d\":[{\"type\":\"scatter3d\",\"line\":{\"colorbar\":{\"outlinewidth\":0,\"ticks\":\"\"}},\"marker\":{\"colorbar\":{\"outlinewidth\":0,\"ticks\":\"\"}}}],\"scattermapbox\":[{\"type\":\"scattermapbox\",\"marker\":{\"colorbar\":{\"outlinewidth\":0,\"ticks\":\"\"}}}],\"scatterternary\":[{\"type\":\"scatterternary\",\"marker\":{\"colorbar\":{\"outlinewidth\":0,\"ticks\":\"\"}}}],\"scattercarpet\":[{\"type\":\"scattercarpet\",\"marker\":{\"colorbar\":{\"outlinewidth\":0,\"ticks\":\"\"}}}],\"carpet\":[{\"aaxis\":{\"endlinecolor\":\"#2a3f5f\",\"gridcolor\":\"white\",\"linecolor\":\"white\",\"minorgridcolor\":\"white\",\"startlinecolor\":\"#2a3f5f\"},\"baxis\":{\"endlinecolor\":\"#2a3f5f\",\"gridcolor\":\"white\",\"linecolor\":\"white\",\"minorgridcolor\":\"white\",\"startlinecolor\":\"#2a3f5f\"},\"type\":\"carpet\"}],\"table\":[{\"cells\":{\"fill\":{\"color\":\"#EBF0F8\"},\"line\":{\"color\":\"white\"}},\"header\":{\"fill\":{\"color\":\"#C8D4E3\"},\"line\":{\"color\":\"white\"}},\"type\":\"table\"}],\"barpolar\":[{\"marker\":{\"line\":{\"color\":\"#E5ECF6\",\"width\":0.5},\"pattern\":{\"fillmode\":\"overlay\",\"size\":10,\"solidity\":0.2}},\"type\":\"barpolar\"}],\"pie\":[{\"automargin\":true,\"type\":\"pie\"}]},\"layout\":{\"autotypenumbers\":\"strict\",\"colorway\":[\"#636efa\",\"#EF553B\",\"#00cc96\",\"#ab63fa\",\"#FFA15A\",\"#19d3f3\",\"#FF6692\",\"#B6E880\",\"#FF97FF\",\"#FECB52\"],\"font\":{\"color\":\"#2a3f5f\"},\"hovermode\":\"closest\",\"hoverlabel\":{\"align\":\"left\"},\"paper_bgcolor\":\"white\",\"plot_bgcolor\":\"#E5ECF6\",\"polar\":{\"bgcolor\":\"#E5ECF6\",\"angularaxis\":{\"gridcolor\":\"white\",\"linecolor\":\"white\",\"ticks\":\"\"},\"radialaxis\":{\"gridcolor\":\"white\",\"linecolor\":\"white\",\"ticks\":\"\"}},\"ternary\":{\"bgcolor\":\"#E5ECF6\",\"aaxis\":{\"gridcolor\":\"white\",\"linecolor\":\"white\",\"ticks\":\"\"},\"baxis\":{\"gridcolor\":\"white\",\"linecolor\":\"white\",\"ticks\":\"\"},\"caxis\":{\"gridcolor\":\"white\",\"linecolor\":\"white\",\"ticks\":\"\"}},\"coloraxis\":{\"colorbar\":{\"outlinewidth\":0,\"ticks\":\"\"}},\"colorscale\":{\"sequential\":[[0.0,\"#0d0887\"],[0.1111111111111111,\"#46039f\"],[0.2222222222222222,\"#7201a8\"],[0.3333333333333333,\"#9c179e\"],[0.4444444444444444,\"#bd3786\"],[0.5555555555555556,\"#d8576b\"],[0.6666666666666666,\"#ed7953\"],[0.7777777777777778,\"#fb9f3a\"],[0.8888888888888888,\"#fdca26\"],[1.0,\"#f0f921\"]],\"sequentialminus\":[[0.0,\"#0d0887\"],[0.1111111111111111,\"#46039f\"],[0.2222222222222222,\"#7201a8\"],[0.3333333333333333,\"#9c179e\"],[0.4444444444444444,\"#bd3786\"],[0.5555555555555556,\"#d8576b\"],[0.6666666666666666,\"#ed7953\"],[0.7777777777777778,\"#fb9f3a\"],[0.8888888888888888,\"#fdca26\"],[1.0,\"#f0f921\"]],\"diverging\":[[0,\"#8e0152\"],[0.1,\"#c51b7d\"],[0.2,\"#de77ae\"],[0.3,\"#f1b6da\"],[0.4,\"#fde0ef\"],[0.5,\"#f7f7f7\"],[0.6,\"#e6f5d0\"],[0.7,\"#b8e186\"],[0.8,\"#7fbc41\"],[0.9,\"#4d9221\"],[1,\"#276419\"]]},\"xaxis\":{\"gridcolor\":\"white\",\"linecolor\":\"white\",\"ticks\":\"\",\"title\":{\"standoff\":15},\"zerolinecolor\":\"white\",\"automargin\":true,\"zerolinewidth\":2},\"yaxis\":{\"gridcolor\":\"white\",\"linecolor\":\"white\",\"ticks\":\"\",\"title\":{\"standoff\":15},\"zerolinecolor\":\"white\",\"automargin\":true,\"zerolinewidth\":2},\"scene\":{\"xaxis\":{\"backgroundcolor\":\"#E5ECF6\",\"gridcolor\":\"white\",\"linecolor\":\"white\",\"showbackground\":true,\"ticks\":\"\",\"zerolinecolor\":\"white\",\"gridwidth\":2},\"yaxis\":{\"backgroundcolor\":\"#E5ECF6\",\"gridcolor\":\"white\",\"linecolor\":\"white\",\"showbackground\":true,\"ticks\":\"\",\"zerolinecolor\":\"white\",\"gridwidth\":2},\"zaxis\":{\"backgroundcolor\":\"#E5ECF6\",\"gridcolor\":\"white\",\"linecolor\":\"white\",\"showbackground\":true,\"ticks\":\"\",\"zerolinecolor\":\"white\",\"gridwidth\":2}},\"shapedefaults\":{\"line\":{\"color\":\"#2a3f5f\"}},\"annotationdefaults\":{\"arrowcolor\":\"#2a3f5f\",\"arrowhead\":0,\"arrowwidth\":1},\"geo\":{\"bgcolor\":\"white\",\"landcolor\":\"#E5ECF6\",\"subunitcolor\":\"white\",\"showland\":true,\"showlakes\":true,\"lakecolor\":\"white\"},\"title\":{\"x\":0.05},\"mapbox\":{\"style\":\"light\"}}},\"xaxis\":{\"title\":{\"text\":\"$ \\\\text{arrival time } t \\\\text{ in s}$\"}},\"yaxis\":{\"title\":{\"text\":\"$ \\\\text{position } x \\\\text{ in cm}$\"}}},                        {\"responsive\": true}                    ).then(function(){\n",
       "                            \n",
       "var gd = document.getElementById('3b60619d-a83a-494d-ad40-61b593a673cd');\n",
       "var x = new MutationObserver(function (mutations, observer) {{\n",
       "        var display = window.getComputedStyle(gd).display;\n",
       "        if (!display || display === 'none') {{\n",
       "            console.log([gd, 'removed!']);\n",
       "            Plotly.purge(gd);\n",
       "            observer.disconnect();\n",
       "        }}\n",
       "}});\n",
       "\n",
       "// Listen for the removal of the full notebook cells\n",
       "var notebookContainer = gd.closest('#notebook-container');\n",
       "if (notebookContainer) {{\n",
       "    x.observe(notebookContainer, {childList: true});\n",
       "}}\n",
       "\n",
       "// Listen for the clearing of the current output cell\n",
       "var outputEl = gd.closest('.output');\n",
       "if (outputEl) {{\n",
       "    x.observe(outputEl, {childList: true});\n",
       "}}\n",
       "\n",
       "                        })                };                });            </script>        </div>"
      ]
     },
     "metadata": {},
     "output_type": "display_data"
    }
   ],
   "source": [
    "#copy of original dataframe for separate plots\n",
    "df_regression = df.copy()\n",
    "df_error = df.copy()\n",
    "\n",
    "\n",
    "#error-estimation df and plot\n",
    "df_error['e_plus'] = df_error['arrival_time']/0.8\n",
    "df_error['e_minus'] = df_error['arrival_time']/40\n",
    "\n",
    "error_points = px.scatter(df_error, x='arrival_time', y='position', \n",
    "                          color ='stages',symbol = 'stages',\n",
    "                          error_y = 'e_plus', error_x = 'e_minus')\n",
    "\n",
    "\n",
    "#Regression df and trendline\n",
    "df_regression = df_regression.replace({'stages' : { 'stage 1' : 'Regression Stage 1', \n",
    "                                                    'stage 2' : 'Regression Stage 2', \n",
    "                                                    'stage 3' : 'Regression Stage 3' }})\n",
    "\n",
    "#Calculating Ordinary Least Squares regression\n",
    "regression = px.scatter(df_regression, x='arrival_time', y='position', \n",
    "                        color='stages', trendline='ols') \n",
    "regression.update_traces(marker_symbol = 141)\n",
    "\n",
    "\n",
    "figure_3 = go.Figure(data = error_points.data + regression.data)\n",
    "figure_3.update_layout(xaxis_title = r'$ \\text{arrival time } t \\text{ in s}$',\n",
    "                      yaxis_title = r'$ \\text{position } x \\text{ in cm}$')\n",
    "\n",
    "figure_3.show()"
   ]
  },
  {
   "cell_type": "markdown",
   "metadata": {},
   "source": [
    "<h4 style ='text-align:center;' >Figure 3: position $x(t)$ as a function of the arrival time</h4>"
   ]
  },
  {
   "cell_type": "code",
   "execution_count": 72,
   "metadata": {},
   "outputs": [
    {
     "data": {
      "application/vnd.plotly.v1+json": {
       "config": {
        "plotlyServerURL": "https://plot.ly"
       },
       "data": [
        {
         "error_x": {
          "array": [
           0.002325,
           0.0007250000000000001,
           0.0005250000000000001,
           0.00042500000000000003
          ]
         },
         "error_y": {
          "array": [
           1.1624999999999999,
           0.3625,
           0.2625,
           0.21250000000000002
          ]
         },
         "hovertemplate": "stages=pull 20 g, cart<br>black_out_time=%{x}<br>velocity=%{y}<extra></extra>",
         "legendgroup": "pull 20 g, cart",
         "marker": {
          "color": "#636efa",
          "symbol": "circle"
         },
         "mode": "markers",
         "name": "pull 20 g, cart",
         "orientation": "v",
         "showlegend": true,
         "type": "scatter",
         "x": [
          0.093,
          0.029,
          0.021,
          0.017
         ],
         "xaxis": "x",
         "y": [
          1.61,
          5.17,
          7.14,
          8.82
         ],
         "yaxis": "y"
        },
        {
         "error_x": {
          "array": [
           0.001475,
           0.0005250000000000001,
           0.000375,
           0.000325
          ]
         },
         "error_y": {
          "array": [
           0.7374999999999999,
           0.2625,
           0.1875,
           0.16249999999999998
          ]
         },
         "hovertemplate": "stages=pull 40 g, cart<br>black_out_time=%{x}<br>velocity=%{y}<extra></extra>",
         "legendgroup": "pull 40 g, cart",
         "marker": {
          "color": "#EF553B",
          "symbol": "diamond"
         },
         "mode": "markers",
         "name": "pull 40 g, cart",
         "orientation": "v",
         "showlegend": true,
         "type": "scatter",
         "x": [
          0.059,
          0.021,
          0.015,
          0.013
         ],
         "xaxis": "x",
         "y": [
          2.54,
          7.14,
          10,
          11.54
         ],
         "yaxis": "y"
        },
        {
         "error_x": {
          "array": [
           0.00235,
           0.0008750000000000001,
           0.000625,
           0.0005250000000000001
          ]
         },
         "error_y": {
          "array": [
           1.175,
           0.43750000000000006,
           0.3125,
           0.2625
          ]
         },
         "hovertemplate": "stages=pull 20 g, cart + 200 g<br>black_out_time=%{x}<br>velocity=%{y}<extra></extra>",
         "legendgroup": "pull 20 g, cart + 200 g",
         "marker": {
          "color": "#00cc96",
          "symbol": "square"
         },
         "mode": "markers",
         "name": "pull 20 g, cart + 200 g",
         "orientation": "v",
         "showlegend": true,
         "type": "scatter",
         "x": [
          0.094,
          0.035,
          0.025,
          0.021
         ],
         "xaxis": "x",
         "y": [
          1.6,
          4.29,
          6,
          7.14
         ],
         "yaxis": "y"
        },
        {
         "error_x": {
          "array": [
           0.0021000000000000003,
           0.00065,
           0.00045,
           0.000375
          ]
         },
         "error_y": {
          "array": [
           1.05,
           0.32499999999999996,
           0.22499999999999998,
           0.1875
          ]
         },
         "hovertemplate": "stages=pull 40 g, cart + 200 g<br>black_out_time=%{x}<br>velocity=%{y}<extra></extra>",
         "legendgroup": "pull 40 g, cart + 200 g",
         "marker": {
          "color": "#ab63fa",
          "symbol": "x"
         },
         "mode": "markers",
         "name": "pull 40 g, cart + 200 g",
         "orientation": "v",
         "showlegend": true,
         "type": "scatter",
         "x": [
          0.084,
          0.026,
          0.018,
          0.015
         ],
         "xaxis": "x",
         "y": [
          1.79,
          5.77,
          8.33,
          10
         ],
         "yaxis": "y"
        },
        {
         "hovertemplate": "stages=Regression pull 20 g, cart<br>black_out_time=%{x}<br>velocity=%{y}<extra></extra>",
         "legendgroup": "Regression pull 20 g, cart",
         "marker": {
          "color": "#636efa",
          "symbol": 141
         },
         "mode": "markers",
         "name": "Regression pull 20 g, cart",
         "orientation": "v",
         "showlegend": true,
         "type": "scatter",
         "x": [
          0.093,
          0.029,
          0.021,
          0.017
         ],
         "xaxis": "x",
         "y": [
          1.61,
          5.17,
          7.14,
          8.82
         ],
         "yaxis": "y"
        },
        {
         "hovertemplate": "<b>OLS trendline</b><br>velocity = -81.1675 * black_out_time + 8.9317<br>R<sup>2</sup>=0.873359<br><br>stages=Regression pull 20 g, cart<br>black_out_time=%{x}<br>velocity=%{y} <b>(trend)</b><extra></extra>",
         "legendgroup": "Regression pull 20 g, cart",
         "marker": {
          "color": "#636efa",
          "symbol": 141
         },
         "mode": "lines",
         "name": "Regression pull 20 g, cart",
         "showlegend": false,
         "type": "scatter",
         "x": [
          0.017,
          0.021,
          0.029,
          0.093
         ],
         "xaxis": "x",
         "y": [
          7.5518534031413616,
          7.227183246073299,
          6.577842931937173,
          1.3831204188481676
         ],
         "yaxis": "y"
        },
        {
         "hovertemplate": "stages=Regression pull 40 g, cart<br>black_out_time=%{x}<br>velocity=%{y}<extra></extra>",
         "legendgroup": "Regression pull 40 g, cart",
         "marker": {
          "color": "#EF553B",
          "symbol": 141
         },
         "mode": "markers",
         "name": "Regression pull 40 g, cart",
         "orientation": "v",
         "showlegend": true,
         "type": "scatter",
         "x": [
          0.059,
          0.021,
          0.015,
          0.013
         ],
         "xaxis": "x",
         "y": [
          2.54,
          7.14,
          10,
          11.54
         ],
         "yaxis": "y"
        },
        {
         "hovertemplate": "<b>OLS trendline</b><br>velocity = -173.657 * black_out_time + 12.4937<br>R<sup>2</sup>=0.899614<br><br>stages=Regression pull 40 g, cart<br>black_out_time=%{x}<br>velocity=%{y} <b>(trend)</b><extra></extra>",
         "legendgroup": "Regression pull 40 g, cart",
         "marker": {
          "color": "#EF553B",
          "symbol": 141
         },
         "mode": "lines",
         "name": "Regression pull 40 g, cart",
         "showlegend": false,
         "type": "scatter",
         "x": [
          0.013,
          0.015,
          0.021,
          0.059
         ],
         "xaxis": "x",
         "y": [
          10.236199999999998,
          9.888885714285713,
          8.846942857142857,
          2.2479714285714287
         ],
         "yaxis": "y"
        },
        {
         "hovertemplate": "stages=Regression pull 20 g, cart + 200 g<br>black_out_time=%{x}<br>velocity=%{y}<extra></extra>",
         "legendgroup": "Regression pull 20 g, cart + 200 g",
         "marker": {
          "color": "#00cc96",
          "symbol": 141
         },
         "mode": "markers",
         "name": "Regression pull 20 g, cart + 200 g",
         "orientation": "v",
         "showlegend": true,
         "type": "scatter",
         "x": [
          0.094,
          0.035,
          0.025,
          0.021
         ],
         "xaxis": "x",
         "y": [
          1.6,
          4.29,
          6,
          7.14
         ],
         "yaxis": "y"
        },
        {
         "hovertemplate": "<b>OLS trendline</b><br>velocity = -66.8652 * black_out_time + 7.68285<br>R<sup>2</sup>=0.891381<br><br>stages=Regression pull 20 g, cart + 200 g<br>black_out_time=%{x}<br>velocity=%{y} <b>(trend)</b><extra></extra>",
         "legendgroup": "Regression pull 20 g, cart + 200 g",
         "marker": {
          "color": "#00cc96",
          "symbol": 141
         },
         "mode": "lines",
         "name": "Regression pull 20 g, cart + 200 g",
         "showlegend": false,
         "type": "scatter",
         "x": [
          0.021,
          0.025,
          0.035,
          0.094
         ],
         "xaxis": "x",
         "y": [
          6.278684002016854,
          6.011223078585319,
          5.342570770006481,
          1.3975221493913397
         ],
         "yaxis": "y"
        },
        {
         "hovertemplate": "stages=Regression pull 40 g, cart + 200 g<br>black_out_time=%{x}<br>velocity=%{y}<extra></extra>",
         "legendgroup": "Regression pull 40 g, cart + 200 g",
         "marker": {
          "color": "#ab63fa",
          "symbol": 141
         },
         "mode": "markers",
         "name": "Regression pull 40 g, cart + 200 g",
         "orientation": "v",
         "showlegend": true,
         "type": "scatter",
         "x": [
          0.084,
          0.026,
          0.018,
          0.015
         ],
         "xaxis": "x",
         "y": [
          1.79,
          5.77,
          8.33,
          10
         ],
         "yaxis": "y"
        },
        {
         "hovertemplate": "<b>OLS trendline</b><br>velocity = -102.642 * black_out_time + 10.142<br>R<sup>2</sup>=0.871355<br><br>stages=Regression pull 40 g, cart + 200 g<br>black_out_time=%{x}<br>velocity=%{y} <b>(trend)</b><extra></extra>",
         "legendgroup": "Regression pull 40 g, cart + 200 g",
         "marker": {
          "color": "#ab63fa",
          "symbol": 141
         },
         "mode": "lines",
         "name": "Regression pull 40 g, cart + 200 g",
         "showlegend": false,
         "type": "scatter",
         "x": [
          0.015,
          0.018,
          0.026,
          0.084
         ],
         "xaxis": "x",
         "y": [
          8.6023258382643,
          8.294399211045365,
          7.4732615384615375,
          1.5200134122287974
         ],
         "yaxis": "y"
        }
       ],
       "layout": {
        "template": {
         "data": {
          "bar": [
           {
            "error_x": {
             "color": "#2a3f5f"
            },
            "error_y": {
             "color": "#2a3f5f"
            },
            "marker": {
             "line": {
              "color": "#E5ECF6",
              "width": 0.5
             },
             "pattern": {
              "fillmode": "overlay",
              "size": 10,
              "solidity": 0.2
             }
            },
            "type": "bar"
           }
          ],
          "barpolar": [
           {
            "marker": {
             "line": {
              "color": "#E5ECF6",
              "width": 0.5
             },
             "pattern": {
              "fillmode": "overlay",
              "size": 10,
              "solidity": 0.2
             }
            },
            "type": "barpolar"
           }
          ],
          "carpet": [
           {
            "aaxis": {
             "endlinecolor": "#2a3f5f",
             "gridcolor": "white",
             "linecolor": "white",
             "minorgridcolor": "white",
             "startlinecolor": "#2a3f5f"
            },
            "baxis": {
             "endlinecolor": "#2a3f5f",
             "gridcolor": "white",
             "linecolor": "white",
             "minorgridcolor": "white",
             "startlinecolor": "#2a3f5f"
            },
            "type": "carpet"
           }
          ],
          "choropleth": [
           {
            "colorbar": {
             "outlinewidth": 0,
             "ticks": ""
            },
            "type": "choropleth"
           }
          ],
          "contour": [
           {
            "colorbar": {
             "outlinewidth": 0,
             "ticks": ""
            },
            "colorscale": [
             [
              0,
              "#0d0887"
             ],
             [
              0.1111111111111111,
              "#46039f"
             ],
             [
              0.2222222222222222,
              "#7201a8"
             ],
             [
              0.3333333333333333,
              "#9c179e"
             ],
             [
              0.4444444444444444,
              "#bd3786"
             ],
             [
              0.5555555555555556,
              "#d8576b"
             ],
             [
              0.6666666666666666,
              "#ed7953"
             ],
             [
              0.7777777777777778,
              "#fb9f3a"
             ],
             [
              0.8888888888888888,
              "#fdca26"
             ],
             [
              1,
              "#f0f921"
             ]
            ],
            "type": "contour"
           }
          ],
          "contourcarpet": [
           {
            "colorbar": {
             "outlinewidth": 0,
             "ticks": ""
            },
            "type": "contourcarpet"
           }
          ],
          "heatmap": [
           {
            "colorbar": {
             "outlinewidth": 0,
             "ticks": ""
            },
            "colorscale": [
             [
              0,
              "#0d0887"
             ],
             [
              0.1111111111111111,
              "#46039f"
             ],
             [
              0.2222222222222222,
              "#7201a8"
             ],
             [
              0.3333333333333333,
              "#9c179e"
             ],
             [
              0.4444444444444444,
              "#bd3786"
             ],
             [
              0.5555555555555556,
              "#d8576b"
             ],
             [
              0.6666666666666666,
              "#ed7953"
             ],
             [
              0.7777777777777778,
              "#fb9f3a"
             ],
             [
              0.8888888888888888,
              "#fdca26"
             ],
             [
              1,
              "#f0f921"
             ]
            ],
            "type": "heatmap"
           }
          ],
          "heatmapgl": [
           {
            "colorbar": {
             "outlinewidth": 0,
             "ticks": ""
            },
            "colorscale": [
             [
              0,
              "#0d0887"
             ],
             [
              0.1111111111111111,
              "#46039f"
             ],
             [
              0.2222222222222222,
              "#7201a8"
             ],
             [
              0.3333333333333333,
              "#9c179e"
             ],
             [
              0.4444444444444444,
              "#bd3786"
             ],
             [
              0.5555555555555556,
              "#d8576b"
             ],
             [
              0.6666666666666666,
              "#ed7953"
             ],
             [
              0.7777777777777778,
              "#fb9f3a"
             ],
             [
              0.8888888888888888,
              "#fdca26"
             ],
             [
              1,
              "#f0f921"
             ]
            ],
            "type": "heatmapgl"
           }
          ],
          "histogram": [
           {
            "marker": {
             "pattern": {
              "fillmode": "overlay",
              "size": 10,
              "solidity": 0.2
             }
            },
            "type": "histogram"
           }
          ],
          "histogram2d": [
           {
            "colorbar": {
             "outlinewidth": 0,
             "ticks": ""
            },
            "colorscale": [
             [
              0,
              "#0d0887"
             ],
             [
              0.1111111111111111,
              "#46039f"
             ],
             [
              0.2222222222222222,
              "#7201a8"
             ],
             [
              0.3333333333333333,
              "#9c179e"
             ],
             [
              0.4444444444444444,
              "#bd3786"
             ],
             [
              0.5555555555555556,
              "#d8576b"
             ],
             [
              0.6666666666666666,
              "#ed7953"
             ],
             [
              0.7777777777777778,
              "#fb9f3a"
             ],
             [
              0.8888888888888888,
              "#fdca26"
             ],
             [
              1,
              "#f0f921"
             ]
            ],
            "type": "histogram2d"
           }
          ],
          "histogram2dcontour": [
           {
            "colorbar": {
             "outlinewidth": 0,
             "ticks": ""
            },
            "colorscale": [
             [
              0,
              "#0d0887"
             ],
             [
              0.1111111111111111,
              "#46039f"
             ],
             [
              0.2222222222222222,
              "#7201a8"
             ],
             [
              0.3333333333333333,
              "#9c179e"
             ],
             [
              0.4444444444444444,
              "#bd3786"
             ],
             [
              0.5555555555555556,
              "#d8576b"
             ],
             [
              0.6666666666666666,
              "#ed7953"
             ],
             [
              0.7777777777777778,
              "#fb9f3a"
             ],
             [
              0.8888888888888888,
              "#fdca26"
             ],
             [
              1,
              "#f0f921"
             ]
            ],
            "type": "histogram2dcontour"
           }
          ],
          "mesh3d": [
           {
            "colorbar": {
             "outlinewidth": 0,
             "ticks": ""
            },
            "type": "mesh3d"
           }
          ],
          "parcoords": [
           {
            "line": {
             "colorbar": {
              "outlinewidth": 0,
              "ticks": ""
             }
            },
            "type": "parcoords"
           }
          ],
          "pie": [
           {
            "automargin": true,
            "type": "pie"
           }
          ],
          "scatter": [
           {
            "fillpattern": {
             "fillmode": "overlay",
             "size": 10,
             "solidity": 0.2
            },
            "type": "scatter"
           }
          ],
          "scatter3d": [
           {
            "line": {
             "colorbar": {
              "outlinewidth": 0,
              "ticks": ""
             }
            },
            "marker": {
             "colorbar": {
              "outlinewidth": 0,
              "ticks": ""
             }
            },
            "type": "scatter3d"
           }
          ],
          "scattercarpet": [
           {
            "marker": {
             "colorbar": {
              "outlinewidth": 0,
              "ticks": ""
             }
            },
            "type": "scattercarpet"
           }
          ],
          "scattergeo": [
           {
            "marker": {
             "colorbar": {
              "outlinewidth": 0,
              "ticks": ""
             }
            },
            "type": "scattergeo"
           }
          ],
          "scattergl": [
           {
            "marker": {
             "colorbar": {
              "outlinewidth": 0,
              "ticks": ""
             }
            },
            "type": "scattergl"
           }
          ],
          "scattermapbox": [
           {
            "marker": {
             "colorbar": {
              "outlinewidth": 0,
              "ticks": ""
             }
            },
            "type": "scattermapbox"
           }
          ],
          "scatterpolar": [
           {
            "marker": {
             "colorbar": {
              "outlinewidth": 0,
              "ticks": ""
             }
            },
            "type": "scatterpolar"
           }
          ],
          "scatterpolargl": [
           {
            "marker": {
             "colorbar": {
              "outlinewidth": 0,
              "ticks": ""
             }
            },
            "type": "scatterpolargl"
           }
          ],
          "scatterternary": [
           {
            "marker": {
             "colorbar": {
              "outlinewidth": 0,
              "ticks": ""
             }
            },
            "type": "scatterternary"
           }
          ],
          "surface": [
           {
            "colorbar": {
             "outlinewidth": 0,
             "ticks": ""
            },
            "colorscale": [
             [
              0,
              "#0d0887"
             ],
             [
              0.1111111111111111,
              "#46039f"
             ],
             [
              0.2222222222222222,
              "#7201a8"
             ],
             [
              0.3333333333333333,
              "#9c179e"
             ],
             [
              0.4444444444444444,
              "#bd3786"
             ],
             [
              0.5555555555555556,
              "#d8576b"
             ],
             [
              0.6666666666666666,
              "#ed7953"
             ],
             [
              0.7777777777777778,
              "#fb9f3a"
             ],
             [
              0.8888888888888888,
              "#fdca26"
             ],
             [
              1,
              "#f0f921"
             ]
            ],
            "type": "surface"
           }
          ],
          "table": [
           {
            "cells": {
             "fill": {
              "color": "#EBF0F8"
             },
             "line": {
              "color": "white"
             }
            },
            "header": {
             "fill": {
              "color": "#C8D4E3"
             },
             "line": {
              "color": "white"
             }
            },
            "type": "table"
           }
          ]
         },
         "layout": {
          "annotationdefaults": {
           "arrowcolor": "#2a3f5f",
           "arrowhead": 0,
           "arrowwidth": 1
          },
          "autotypenumbers": "strict",
          "coloraxis": {
           "colorbar": {
            "outlinewidth": 0,
            "ticks": ""
           }
          },
          "colorscale": {
           "diverging": [
            [
             0,
             "#8e0152"
            ],
            [
             0.1,
             "#c51b7d"
            ],
            [
             0.2,
             "#de77ae"
            ],
            [
             0.3,
             "#f1b6da"
            ],
            [
             0.4,
             "#fde0ef"
            ],
            [
             0.5,
             "#f7f7f7"
            ],
            [
             0.6,
             "#e6f5d0"
            ],
            [
             0.7,
             "#b8e186"
            ],
            [
             0.8,
             "#7fbc41"
            ],
            [
             0.9,
             "#4d9221"
            ],
            [
             1,
             "#276419"
            ]
           ],
           "sequential": [
            [
             0,
             "#0d0887"
            ],
            [
             0.1111111111111111,
             "#46039f"
            ],
            [
             0.2222222222222222,
             "#7201a8"
            ],
            [
             0.3333333333333333,
             "#9c179e"
            ],
            [
             0.4444444444444444,
             "#bd3786"
            ],
            [
             0.5555555555555556,
             "#d8576b"
            ],
            [
             0.6666666666666666,
             "#ed7953"
            ],
            [
             0.7777777777777778,
             "#fb9f3a"
            ],
            [
             0.8888888888888888,
             "#fdca26"
            ],
            [
             1,
             "#f0f921"
            ]
           ],
           "sequentialminus": [
            [
             0,
             "#0d0887"
            ],
            [
             0.1111111111111111,
             "#46039f"
            ],
            [
             0.2222222222222222,
             "#7201a8"
            ],
            [
             0.3333333333333333,
             "#9c179e"
            ],
            [
             0.4444444444444444,
             "#bd3786"
            ],
            [
             0.5555555555555556,
             "#d8576b"
            ],
            [
             0.6666666666666666,
             "#ed7953"
            ],
            [
             0.7777777777777778,
             "#fb9f3a"
            ],
            [
             0.8888888888888888,
             "#fdca26"
            ],
            [
             1,
             "#f0f921"
            ]
           ]
          },
          "colorway": [
           "#636efa",
           "#EF553B",
           "#00cc96",
           "#ab63fa",
           "#FFA15A",
           "#19d3f3",
           "#FF6692",
           "#B6E880",
           "#FF97FF",
           "#FECB52"
          ],
          "font": {
           "color": "#2a3f5f"
          },
          "geo": {
           "bgcolor": "white",
           "lakecolor": "white",
           "landcolor": "#E5ECF6",
           "showlakes": true,
           "showland": true,
           "subunitcolor": "white"
          },
          "hoverlabel": {
           "align": "left"
          },
          "hovermode": "closest",
          "mapbox": {
           "style": "light"
          },
          "paper_bgcolor": "white",
          "plot_bgcolor": "#E5ECF6",
          "polar": {
           "angularaxis": {
            "gridcolor": "white",
            "linecolor": "white",
            "ticks": ""
           },
           "bgcolor": "#E5ECF6",
           "radialaxis": {
            "gridcolor": "white",
            "linecolor": "white",
            "ticks": ""
           }
          },
          "scene": {
           "xaxis": {
            "backgroundcolor": "#E5ECF6",
            "gridcolor": "white",
            "gridwidth": 2,
            "linecolor": "white",
            "showbackground": true,
            "ticks": "",
            "zerolinecolor": "white"
           },
           "yaxis": {
            "backgroundcolor": "#E5ECF6",
            "gridcolor": "white",
            "gridwidth": 2,
            "linecolor": "white",
            "showbackground": true,
            "ticks": "",
            "zerolinecolor": "white"
           },
           "zaxis": {
            "backgroundcolor": "#E5ECF6",
            "gridcolor": "white",
            "gridwidth": 2,
            "linecolor": "white",
            "showbackground": true,
            "ticks": "",
            "zerolinecolor": "white"
           }
          },
          "shapedefaults": {
           "line": {
            "color": "#2a3f5f"
           }
          },
          "ternary": {
           "aaxis": {
            "gridcolor": "white",
            "linecolor": "white",
            "ticks": ""
           },
           "baxis": {
            "gridcolor": "white",
            "linecolor": "white",
            "ticks": ""
           },
           "bgcolor": "#E5ECF6",
           "caxis": {
            "gridcolor": "white",
            "linecolor": "white",
            "ticks": ""
           }
          },
          "title": {
           "x": 0.05
          },
          "xaxis": {
           "automargin": true,
           "gridcolor": "white",
           "linecolor": "white",
           "ticks": "",
           "title": {
            "standoff": 15
           },
           "zerolinecolor": "white",
           "zerolinewidth": 2
          },
          "yaxis": {
           "automargin": true,
           "gridcolor": "white",
           "linecolor": "white",
           "ticks": "",
           "title": {
            "standoff": 15
           },
           "zerolinecolor": "white",
           "zerolinewidth": 2
          }
         }
        },
        "xaxis": {
         "title": {
          "text": "$ \\text{blackout time } \\Delta t \\text{ in s}$"
         }
        },
        "yaxis": {
         "title": {
          "text": "$ \\text{velocity } v \\text{ in cm/s}$"
         }
        }
       }
      },
      "text/html": [
       "<div>                            <div id=\"53bf8cf5-9273-4ec3-8fad-5e5205a0b4f8\" class=\"plotly-graph-div\" style=\"height:525px; width:100%;\"></div>            <script type=\"text/javascript\">                require([\"plotly\"], function(Plotly) {                    window.PLOTLYENV=window.PLOTLYENV || {};                                    if (document.getElementById(\"53bf8cf5-9273-4ec3-8fad-5e5205a0b4f8\")) {                    Plotly.newPlot(                        \"53bf8cf5-9273-4ec3-8fad-5e5205a0b4f8\",                        [{\"error_x\":{\"array\":[0.002325,0.0007250000000000001,0.0005250000000000001,0.00042500000000000003]},\"error_y\":{\"array\":[1.1624999999999999,0.3625,0.2625,0.21250000000000002]},\"hovertemplate\":\"stages=pull 20 g, cart<br>black_out_time=%{x}<br>velocity=%{y}<extra></extra>\",\"legendgroup\":\"pull 20 g, cart\",\"marker\":{\"color\":\"#636efa\",\"symbol\":\"circle\"},\"mode\":\"markers\",\"name\":\"pull 20 g, cart\",\"orientation\":\"v\",\"showlegend\":true,\"x\":[0.093,0.029,0.021,0.017],\"xaxis\":\"x\",\"y\":[1.61,5.17,7.14,8.82],\"yaxis\":\"y\",\"type\":\"scatter\"},{\"error_x\":{\"array\":[0.001475,0.0005250000000000001,0.000375,0.000325]},\"error_y\":{\"array\":[0.7374999999999999,0.2625,0.1875,0.16249999999999998]},\"hovertemplate\":\"stages=pull 40 g, cart<br>black_out_time=%{x}<br>velocity=%{y}<extra></extra>\",\"legendgroup\":\"pull 40 g, cart\",\"marker\":{\"color\":\"#EF553B\",\"symbol\":\"diamond\"},\"mode\":\"markers\",\"name\":\"pull 40 g, cart\",\"orientation\":\"v\",\"showlegend\":true,\"x\":[0.059,0.021,0.015,0.013],\"xaxis\":\"x\",\"y\":[2.54,7.14,10.0,11.54],\"yaxis\":\"y\",\"type\":\"scatter\"},{\"error_x\":{\"array\":[0.00235,0.0008750000000000001,0.000625,0.0005250000000000001]},\"error_y\":{\"array\":[1.175,0.43750000000000006,0.3125,0.2625]},\"hovertemplate\":\"stages=pull 20 g, cart + 200 g<br>black_out_time=%{x}<br>velocity=%{y}<extra></extra>\",\"legendgroup\":\"pull 20 g, cart + 200 g\",\"marker\":{\"color\":\"#00cc96\",\"symbol\":\"square\"},\"mode\":\"markers\",\"name\":\"pull 20 g, cart + 200 g\",\"orientation\":\"v\",\"showlegend\":true,\"x\":[0.094,0.035,0.025,0.021],\"xaxis\":\"x\",\"y\":[1.6,4.29,6.0,7.14],\"yaxis\":\"y\",\"type\":\"scatter\"},{\"error_x\":{\"array\":[0.0021000000000000003,0.00065,0.00045,0.000375]},\"error_y\":{\"array\":[1.05,0.32499999999999996,0.22499999999999998,0.1875]},\"hovertemplate\":\"stages=pull 40 g, cart + 200 g<br>black_out_time=%{x}<br>velocity=%{y}<extra></extra>\",\"legendgroup\":\"pull 40 g, cart + 200 g\",\"marker\":{\"color\":\"#ab63fa\",\"symbol\":\"x\"},\"mode\":\"markers\",\"name\":\"pull 40 g, cart + 200 g\",\"orientation\":\"v\",\"showlegend\":true,\"x\":[0.084,0.026,0.018,0.015],\"xaxis\":\"x\",\"y\":[1.79,5.77,8.33,10.0],\"yaxis\":\"y\",\"type\":\"scatter\"},{\"hovertemplate\":\"stages=Regression pull 20 g, cart<br>black_out_time=%{x}<br>velocity=%{y}<extra></extra>\",\"legendgroup\":\"Regression pull 20 g, cart\",\"marker\":{\"color\":\"#636efa\",\"symbol\":141},\"mode\":\"markers\",\"name\":\"Regression pull 20 g, cart\",\"orientation\":\"v\",\"showlegend\":true,\"x\":[0.093,0.029,0.021,0.017],\"xaxis\":\"x\",\"y\":[1.61,5.17,7.14,8.82],\"yaxis\":\"y\",\"type\":\"scatter\"},{\"hovertemplate\":\"<b>OLS trendline</b><br>velocity = -81.1675 * black_out_time + 8.9317<br>R<sup>2</sup>=0.873359<br><br>stages=Regression pull 20 g, cart<br>black_out_time=%{x}<br>velocity=%{y} <b>(trend)</b><extra></extra>\",\"legendgroup\":\"Regression pull 20 g, cart\",\"marker\":{\"color\":\"#636efa\",\"symbol\":141},\"mode\":\"lines\",\"name\":\"Regression pull 20 g, cart\",\"showlegend\":false,\"x\":[0.017,0.021,0.029,0.093],\"xaxis\":\"x\",\"y\":[7.5518534031413616,7.227183246073299,6.577842931937173,1.3831204188481676],\"yaxis\":\"y\",\"type\":\"scatter\"},{\"hovertemplate\":\"stages=Regression pull 40 g, cart<br>black_out_time=%{x}<br>velocity=%{y}<extra></extra>\",\"legendgroup\":\"Regression pull 40 g, cart\",\"marker\":{\"color\":\"#EF553B\",\"symbol\":141},\"mode\":\"markers\",\"name\":\"Regression pull 40 g, cart\",\"orientation\":\"v\",\"showlegend\":true,\"x\":[0.059,0.021,0.015,0.013],\"xaxis\":\"x\",\"y\":[2.54,7.14,10.0,11.54],\"yaxis\":\"y\",\"type\":\"scatter\"},{\"hovertemplate\":\"<b>OLS trendline</b><br>velocity = -173.657 * black_out_time + 12.4937<br>R<sup>2</sup>=0.899614<br><br>stages=Regression pull 40 g, cart<br>black_out_time=%{x}<br>velocity=%{y} <b>(trend)</b><extra></extra>\",\"legendgroup\":\"Regression pull 40 g, cart\",\"marker\":{\"color\":\"#EF553B\",\"symbol\":141},\"mode\":\"lines\",\"name\":\"Regression pull 40 g, cart\",\"showlegend\":false,\"x\":[0.013,0.015,0.021,0.059],\"xaxis\":\"x\",\"y\":[10.236199999999998,9.888885714285713,8.846942857142857,2.2479714285714287],\"yaxis\":\"y\",\"type\":\"scatter\"},{\"hovertemplate\":\"stages=Regression pull 20 g, cart + 200 g<br>black_out_time=%{x}<br>velocity=%{y}<extra></extra>\",\"legendgroup\":\"Regression pull 20 g, cart + 200 g\",\"marker\":{\"color\":\"#00cc96\",\"symbol\":141},\"mode\":\"markers\",\"name\":\"Regression pull 20 g, cart + 200 g\",\"orientation\":\"v\",\"showlegend\":true,\"x\":[0.094,0.035,0.025,0.021],\"xaxis\":\"x\",\"y\":[1.6,4.29,6.0,7.14],\"yaxis\":\"y\",\"type\":\"scatter\"},{\"hovertemplate\":\"<b>OLS trendline</b><br>velocity = -66.8652 * black_out_time + 7.68285<br>R<sup>2</sup>=0.891381<br><br>stages=Regression pull 20 g, cart + 200 g<br>black_out_time=%{x}<br>velocity=%{y} <b>(trend)</b><extra></extra>\",\"legendgroup\":\"Regression pull 20 g, cart + 200 g\",\"marker\":{\"color\":\"#00cc96\",\"symbol\":141},\"mode\":\"lines\",\"name\":\"Regression pull 20 g, cart + 200 g\",\"showlegend\":false,\"x\":[0.021,0.025,0.035,0.094],\"xaxis\":\"x\",\"y\":[6.278684002016854,6.011223078585319,5.342570770006481,1.3975221493913397],\"yaxis\":\"y\",\"type\":\"scatter\"},{\"hovertemplate\":\"stages=Regression pull 40 g, cart + 200 g<br>black_out_time=%{x}<br>velocity=%{y}<extra></extra>\",\"legendgroup\":\"Regression pull 40 g, cart + 200 g\",\"marker\":{\"color\":\"#ab63fa\",\"symbol\":141},\"mode\":\"markers\",\"name\":\"Regression pull 40 g, cart + 200 g\",\"orientation\":\"v\",\"showlegend\":true,\"x\":[0.084,0.026,0.018,0.015],\"xaxis\":\"x\",\"y\":[1.79,5.77,8.33,10.0],\"yaxis\":\"y\",\"type\":\"scatter\"},{\"hovertemplate\":\"<b>OLS trendline</b><br>velocity = -102.642 * black_out_time + 10.142<br>R<sup>2</sup>=0.871355<br><br>stages=Regression pull 40 g, cart + 200 g<br>black_out_time=%{x}<br>velocity=%{y} <b>(trend)</b><extra></extra>\",\"legendgroup\":\"Regression pull 40 g, cart + 200 g\",\"marker\":{\"color\":\"#ab63fa\",\"symbol\":141},\"mode\":\"lines\",\"name\":\"Regression pull 40 g, cart + 200 g\",\"showlegend\":false,\"x\":[0.015,0.018,0.026,0.084],\"xaxis\":\"x\",\"y\":[8.6023258382643,8.294399211045365,7.4732615384615375,1.5200134122287974],\"yaxis\":\"y\",\"type\":\"scatter\"}],                        {\"template\":{\"data\":{\"histogram2dcontour\":[{\"type\":\"histogram2dcontour\",\"colorbar\":{\"outlinewidth\":0,\"ticks\":\"\"},\"colorscale\":[[0.0,\"#0d0887\"],[0.1111111111111111,\"#46039f\"],[0.2222222222222222,\"#7201a8\"],[0.3333333333333333,\"#9c179e\"],[0.4444444444444444,\"#bd3786\"],[0.5555555555555556,\"#d8576b\"],[0.6666666666666666,\"#ed7953\"],[0.7777777777777778,\"#fb9f3a\"],[0.8888888888888888,\"#fdca26\"],[1.0,\"#f0f921\"]]}],\"choropleth\":[{\"type\":\"choropleth\",\"colorbar\":{\"outlinewidth\":0,\"ticks\":\"\"}}],\"histogram2d\":[{\"type\":\"histogram2d\",\"colorbar\":{\"outlinewidth\":0,\"ticks\":\"\"},\"colorscale\":[[0.0,\"#0d0887\"],[0.1111111111111111,\"#46039f\"],[0.2222222222222222,\"#7201a8\"],[0.3333333333333333,\"#9c179e\"],[0.4444444444444444,\"#bd3786\"],[0.5555555555555556,\"#d8576b\"],[0.6666666666666666,\"#ed7953\"],[0.7777777777777778,\"#fb9f3a\"],[0.8888888888888888,\"#fdca26\"],[1.0,\"#f0f921\"]]}],\"heatmap\":[{\"type\":\"heatmap\",\"colorbar\":{\"outlinewidth\":0,\"ticks\":\"\"},\"colorscale\":[[0.0,\"#0d0887\"],[0.1111111111111111,\"#46039f\"],[0.2222222222222222,\"#7201a8\"],[0.3333333333333333,\"#9c179e\"],[0.4444444444444444,\"#bd3786\"],[0.5555555555555556,\"#d8576b\"],[0.6666666666666666,\"#ed7953\"],[0.7777777777777778,\"#fb9f3a\"],[0.8888888888888888,\"#fdca26\"],[1.0,\"#f0f921\"]]}],\"heatmapgl\":[{\"type\":\"heatmapgl\",\"colorbar\":{\"outlinewidth\":0,\"ticks\":\"\"},\"colorscale\":[[0.0,\"#0d0887\"],[0.1111111111111111,\"#46039f\"],[0.2222222222222222,\"#7201a8\"],[0.3333333333333333,\"#9c179e\"],[0.4444444444444444,\"#bd3786\"],[0.5555555555555556,\"#d8576b\"],[0.6666666666666666,\"#ed7953\"],[0.7777777777777778,\"#fb9f3a\"],[0.8888888888888888,\"#fdca26\"],[1.0,\"#f0f921\"]]}],\"contourcarpet\":[{\"type\":\"contourcarpet\",\"colorbar\":{\"outlinewidth\":0,\"ticks\":\"\"}}],\"contour\":[{\"type\":\"contour\",\"colorbar\":{\"outlinewidth\":0,\"ticks\":\"\"},\"colorscale\":[[0.0,\"#0d0887\"],[0.1111111111111111,\"#46039f\"],[0.2222222222222222,\"#7201a8\"],[0.3333333333333333,\"#9c179e\"],[0.4444444444444444,\"#bd3786\"],[0.5555555555555556,\"#d8576b\"],[0.6666666666666666,\"#ed7953\"],[0.7777777777777778,\"#fb9f3a\"],[0.8888888888888888,\"#fdca26\"],[1.0,\"#f0f921\"]]}],\"surface\":[{\"type\":\"surface\",\"colorbar\":{\"outlinewidth\":0,\"ticks\":\"\"},\"colorscale\":[[0.0,\"#0d0887\"],[0.1111111111111111,\"#46039f\"],[0.2222222222222222,\"#7201a8\"],[0.3333333333333333,\"#9c179e\"],[0.4444444444444444,\"#bd3786\"],[0.5555555555555556,\"#d8576b\"],[0.6666666666666666,\"#ed7953\"],[0.7777777777777778,\"#fb9f3a\"],[0.8888888888888888,\"#fdca26\"],[1.0,\"#f0f921\"]]}],\"mesh3d\":[{\"type\":\"mesh3d\",\"colorbar\":{\"outlinewidth\":0,\"ticks\":\"\"}}],\"scatter\":[{\"fillpattern\":{\"fillmode\":\"overlay\",\"size\":10,\"solidity\":0.2},\"type\":\"scatter\"}],\"parcoords\":[{\"type\":\"parcoords\",\"line\":{\"colorbar\":{\"outlinewidth\":0,\"ticks\":\"\"}}}],\"scatterpolargl\":[{\"type\":\"scatterpolargl\",\"marker\":{\"colorbar\":{\"outlinewidth\":0,\"ticks\":\"\"}}}],\"bar\":[{\"error_x\":{\"color\":\"#2a3f5f\"},\"error_y\":{\"color\":\"#2a3f5f\"},\"marker\":{\"line\":{\"color\":\"#E5ECF6\",\"width\":0.5},\"pattern\":{\"fillmode\":\"overlay\",\"size\":10,\"solidity\":0.2}},\"type\":\"bar\"}],\"scattergeo\":[{\"type\":\"scattergeo\",\"marker\":{\"colorbar\":{\"outlinewidth\":0,\"ticks\":\"\"}}}],\"scatterpolar\":[{\"type\":\"scatterpolar\",\"marker\":{\"colorbar\":{\"outlinewidth\":0,\"ticks\":\"\"}}}],\"histogram\":[{\"marker\":{\"pattern\":{\"fillmode\":\"overlay\",\"size\":10,\"solidity\":0.2}},\"type\":\"histogram\"}],\"scattergl\":[{\"type\":\"scattergl\",\"marker\":{\"colorbar\":{\"outlinewidth\":0,\"ticks\":\"\"}}}],\"scatter3d\":[{\"type\":\"scatter3d\",\"line\":{\"colorbar\":{\"outlinewidth\":0,\"ticks\":\"\"}},\"marker\":{\"colorbar\":{\"outlinewidth\":0,\"ticks\":\"\"}}}],\"scattermapbox\":[{\"type\":\"scattermapbox\",\"marker\":{\"colorbar\":{\"outlinewidth\":0,\"ticks\":\"\"}}}],\"scatterternary\":[{\"type\":\"scatterternary\",\"marker\":{\"colorbar\":{\"outlinewidth\":0,\"ticks\":\"\"}}}],\"scattercarpet\":[{\"type\":\"scattercarpet\",\"marker\":{\"colorbar\":{\"outlinewidth\":0,\"ticks\":\"\"}}}],\"carpet\":[{\"aaxis\":{\"endlinecolor\":\"#2a3f5f\",\"gridcolor\":\"white\",\"linecolor\":\"white\",\"minorgridcolor\":\"white\",\"startlinecolor\":\"#2a3f5f\"},\"baxis\":{\"endlinecolor\":\"#2a3f5f\",\"gridcolor\":\"white\",\"linecolor\":\"white\",\"minorgridcolor\":\"white\",\"startlinecolor\":\"#2a3f5f\"},\"type\":\"carpet\"}],\"table\":[{\"cells\":{\"fill\":{\"color\":\"#EBF0F8\"},\"line\":{\"color\":\"white\"}},\"header\":{\"fill\":{\"color\":\"#C8D4E3\"},\"line\":{\"color\":\"white\"}},\"type\":\"table\"}],\"barpolar\":[{\"marker\":{\"line\":{\"color\":\"#E5ECF6\",\"width\":0.5},\"pattern\":{\"fillmode\":\"overlay\",\"size\":10,\"solidity\":0.2}},\"type\":\"barpolar\"}],\"pie\":[{\"automargin\":true,\"type\":\"pie\"}]},\"layout\":{\"autotypenumbers\":\"strict\",\"colorway\":[\"#636efa\",\"#EF553B\",\"#00cc96\",\"#ab63fa\",\"#FFA15A\",\"#19d3f3\",\"#FF6692\",\"#B6E880\",\"#FF97FF\",\"#FECB52\"],\"font\":{\"color\":\"#2a3f5f\"},\"hovermode\":\"closest\",\"hoverlabel\":{\"align\":\"left\"},\"paper_bgcolor\":\"white\",\"plot_bgcolor\":\"#E5ECF6\",\"polar\":{\"bgcolor\":\"#E5ECF6\",\"angularaxis\":{\"gridcolor\":\"white\",\"linecolor\":\"white\",\"ticks\":\"\"},\"radialaxis\":{\"gridcolor\":\"white\",\"linecolor\":\"white\",\"ticks\":\"\"}},\"ternary\":{\"bgcolor\":\"#E5ECF6\",\"aaxis\":{\"gridcolor\":\"white\",\"linecolor\":\"white\",\"ticks\":\"\"},\"baxis\":{\"gridcolor\":\"white\",\"linecolor\":\"white\",\"ticks\":\"\"},\"caxis\":{\"gridcolor\":\"white\",\"linecolor\":\"white\",\"ticks\":\"\"}},\"coloraxis\":{\"colorbar\":{\"outlinewidth\":0,\"ticks\":\"\"}},\"colorscale\":{\"sequential\":[[0.0,\"#0d0887\"],[0.1111111111111111,\"#46039f\"],[0.2222222222222222,\"#7201a8\"],[0.3333333333333333,\"#9c179e\"],[0.4444444444444444,\"#bd3786\"],[0.5555555555555556,\"#d8576b\"],[0.6666666666666666,\"#ed7953\"],[0.7777777777777778,\"#fb9f3a\"],[0.8888888888888888,\"#fdca26\"],[1.0,\"#f0f921\"]],\"sequentialminus\":[[0.0,\"#0d0887\"],[0.1111111111111111,\"#46039f\"],[0.2222222222222222,\"#7201a8\"],[0.3333333333333333,\"#9c179e\"],[0.4444444444444444,\"#bd3786\"],[0.5555555555555556,\"#d8576b\"],[0.6666666666666666,\"#ed7953\"],[0.7777777777777778,\"#fb9f3a\"],[0.8888888888888888,\"#fdca26\"],[1.0,\"#f0f921\"]],\"diverging\":[[0,\"#8e0152\"],[0.1,\"#c51b7d\"],[0.2,\"#de77ae\"],[0.3,\"#f1b6da\"],[0.4,\"#fde0ef\"],[0.5,\"#f7f7f7\"],[0.6,\"#e6f5d0\"],[0.7,\"#b8e186\"],[0.8,\"#7fbc41\"],[0.9,\"#4d9221\"],[1,\"#276419\"]]},\"xaxis\":{\"gridcolor\":\"white\",\"linecolor\":\"white\",\"ticks\":\"\",\"title\":{\"standoff\":15},\"zerolinecolor\":\"white\",\"automargin\":true,\"zerolinewidth\":2},\"yaxis\":{\"gridcolor\":\"white\",\"linecolor\":\"white\",\"ticks\":\"\",\"title\":{\"standoff\":15},\"zerolinecolor\":\"white\",\"automargin\":true,\"zerolinewidth\":2},\"scene\":{\"xaxis\":{\"backgroundcolor\":\"#E5ECF6\",\"gridcolor\":\"white\",\"linecolor\":\"white\",\"showbackground\":true,\"ticks\":\"\",\"zerolinecolor\":\"white\",\"gridwidth\":2},\"yaxis\":{\"backgroundcolor\":\"#E5ECF6\",\"gridcolor\":\"white\",\"linecolor\":\"white\",\"showbackground\":true,\"ticks\":\"\",\"zerolinecolor\":\"white\",\"gridwidth\":2},\"zaxis\":{\"backgroundcolor\":\"#E5ECF6\",\"gridcolor\":\"white\",\"linecolor\":\"white\",\"showbackground\":true,\"ticks\":\"\",\"zerolinecolor\":\"white\",\"gridwidth\":2}},\"shapedefaults\":{\"line\":{\"color\":\"#2a3f5f\"}},\"annotationdefaults\":{\"arrowcolor\":\"#2a3f5f\",\"arrowhead\":0,\"arrowwidth\":1},\"geo\":{\"bgcolor\":\"white\",\"landcolor\":\"#E5ECF6\",\"subunitcolor\":\"white\",\"showland\":true,\"showlakes\":true,\"lakecolor\":\"white\"},\"title\":{\"x\":0.05},\"mapbox\":{\"style\":\"light\"}}},\"xaxis\":{\"title\":{\"text\":\"$ \\\\text{blackout time } \\\\Delta t \\\\text{ in s}$\"}},\"yaxis\":{\"title\":{\"text\":\"$ \\\\text{velocity } v \\\\text{ in cm/s}$\"}}},                        {\"responsive\": true}                    ).then(function(){\n",
       "                            \n",
       "var gd = document.getElementById('53bf8cf5-9273-4ec3-8fad-5e5205a0b4f8');\n",
       "var x = new MutationObserver(function (mutations, observer) {{\n",
       "        var display = window.getComputedStyle(gd).display;\n",
       "        if (!display || display === 'none') {{\n",
       "            console.log([gd, 'removed!']);\n",
       "            Plotly.purge(gd);\n",
       "            observer.disconnect();\n",
       "        }}\n",
       "}});\n",
       "\n",
       "// Listen for the removal of the full notebook cells\n",
       "var notebookContainer = gd.closest('#notebook-container');\n",
       "if (notebookContainer) {{\n",
       "    x.observe(notebookContainer, {childList: true});\n",
       "}}\n",
       "\n",
       "// Listen for the clearing of the current output cell\n",
       "var outputEl = gd.closest('.output');\n",
       "if (outputEl) {{\n",
       "    x.observe(outputEl, {childList: true});\n",
       "}}\n",
       "\n",
       "                        })                };                });            </script>        </div>"
      ]
     },
     "metadata": {},
     "output_type": "display_data"
    }
   ],
   "source": [
    "#copy of original dataframe for separate plots\n",
    "df2_regression = df2.copy()\n",
    "df2_error = df2.copy()\n",
    "\n",
    "\n",
    "#error-estimation df and plot\n",
    "df2_error['e_plus'] = df2_error['black_out_time']/0.08\n",
    "df2_error['e_minus'] = df2_error['black_out_time']/40\n",
    "\n",
    "error_points = px.scatter(df2_error, x='black_out_time', y='velocity', \n",
    "                          color ='stages',symbol = 'stages',\n",
    "                          error_y = 'e_plus', error_x = 'e_minus')\n",
    "\n",
    "\n",
    "#Regression df and trendline\n",
    "df2_regression = df2_regression.replace({'stages' : { 'pull 20 g, cart' : 'Regression pull 20 g, cart', \n",
    "                                                    'pull 40 g, cart' : 'Regression pull 40 g, cart', \n",
    "                                                    'pull 20 g, cart + 200 g' : 'Regression pull 20 g, cart + 200 g',\n",
    "                                                    'pull 40 g, cart + 200 g':'Regression pull 40 g, cart + 200 g'}})\n",
    "\n",
    "#Calculating Ordinary Least Squares regression\n",
    "regression = px.scatter(df2_regression, x='black_out_time', y=df2_regression['velocity'], \n",
    "                        color='stages', trendline='ols') \n",
    "regression.update_traces(marker_symbol = 141)\n",
    "\n",
    "\n",
    "figure_3 = go.Figure(data = error_points.data + regression.data)\n",
    "figure_3.update_layout(xaxis_title = r'$ \\text{blackout time } \\Delta t \\text{ in s}$',\n",
    "                      yaxis_title = r'$ \\text{velocity } v \\text{ in cm/s}$')\n",
    "\n",
    "figure_3.show()"
   ]
  },
  {
   "cell_type": "markdown",
   "metadata": {},
   "source": [
    "<h4 style ='text-align:center;' >Figure 4: velocity $v(t)$ as a function of the blackout time</h4>\n",
    "\n",
    ">"
   ]
  },
  {
   "cell_type": "markdown",
   "metadata": {},
   "source": [
    "### Q: Extract the velocities from the slopes of the $x(t)$ -diagram\n",
    ">"
   ]
  },
  {
   "cell_type": "code",
   "execution_count": 178,
   "metadata": {
    "scrolled": true
   },
   "outputs": [
    {
     "data": {
      "text/plain": [
       "Text(0, 0.5, 'position $ x $ in cm')"
      ]
     },
     "execution_count": 178,
     "metadata": {},
     "output_type": "execute_result"
    },
    {
     "data": {
      "image/png": "[encoded data removed]",
      "text/plain": [
       "<Figure size 720x324 with 3 Axes>"
      ]
     },
     "metadata": {},
     "output_type": "display_data"
    }
   ],
   "source": [
    "m_stage1 = np.polyfit(df.arrival_time.iloc[0:4], df.position.iloc[0:4], 1)\n",
    "m_stage2 = np.polyfit(df.arrival_time.iloc[4:8], df.position.iloc[4:8], 1)\n",
    "m_stage3 = np.polyfit(df.arrival_time.iloc[8:12], df.position.iloc[8:12], 1)\n",
    "\n",
    "\n",
    "fig, axes = plt.subplots(1,3)\n",
    "\n",
    "axes[0].scatter(df.arrival_time.iloc[0:4], df.position.iloc[0:4], c='red')\n",
    "axes[0].plot(df.arrival_time.iloc[0:4], np.polyval(m_stage1,df.arrival_time.iloc[0:4]), 'r-')\n",
    "axes[0].set_xlabel('arrival time $ t $ in s')\n",
    "axes[0].set_ylabel('position $ x $ in cm')\n",
    "\n",
    "\n",
    "axes[1].scatter(df.arrival_time.iloc[4:8], df.position.iloc[4:8], c='blue')\n",
    "axes[1].plot(df.arrival_time.iloc[4:8], np.polyval(m_stage2,df.arrival_time.iloc[4:8]), 'b-')\n",
    "axes[1].set_xlabel('arrival time $ t $ in s')\n",
    "axes[1].set_ylabel('position $ x $ in cm')\n",
    "\n",
    "axes[2].scatter(df.arrival_time.iloc[4:8], df.position.iloc[4:8], c='green')\n",
    "axes[2].plot(df.arrival_time.iloc[4:8], np.polyval(m_stage2,df.arrival_time.iloc[4:8]), 'g-')\n",
    "axes[2].set_xlabel('arrival time $ t $ in s')\n",
    "axes[2].set_ylabel('position $ x $ in cm')\n",
    "\n"
   ]
  },
  {
   "cell_type": "markdown",
   "metadata": {},
   "source": [
    "<h4 style ='text-align:center;' >Figure 5: Regression lines for $x(t)$ as a function of the arrival time</h4>\n",
    "\n",
    ">"
   ]
  },
  {
   "cell_type": "code",
   "execution_count": 48,
   "metadata": {},
   "outputs": [
    {
     "name": "stdout",
     "output_type": "stream",
     "text": [
      "The extracted slope; velocity for stage 1 is: 25.972 cm/s\n",
      "The extracted slope; velocity for stage 2 is: 44.13 cm/s\n",
      "The extracted slope; velocity for stage 3 is: 60.43 cm/s\n"
     ]
    }
   ],
   "source": [
    "print( 'The extracted slope; velocity for stage 1 is: {} cm/s' .format(round(m_stage1[0],3)))\n",
    "print( 'The extracted slope; velocity for stage 2 is: {} cm/s' .format(round(m_stage2[0],3)))\n",
    "print( 'The extracted slope; velocity for stage 3 is: {} cm/s' .format(round(m_stage3[0],3)))"
   ]
  },
  {
   "cell_type": "markdown",
   "metadata": {},
   "source": [
    "### Q: Extract the accelerations from the slopes of the $v(t)$.\n",
    ">"
   ]
  },
  {
   "cell_type": "code",
   "execution_count": 179,
   "metadata": {},
   "outputs": [
    {
     "data": {
      "image/png": "[encoded data removed]",
      "text/plain": [
       "<Figure size 720x324 with 4 Axes>"
      ]
     },
     "metadata": {},
     "output_type": "display_data"
    }
   ],
   "source": [
    "pull_20_c = np.polyfit(df2.black_out_time.iloc[0:4], df2.velocity.iloc[0:4],1)\n",
    "pull_40_c = np.polyfit(df2.black_out_time.iloc[4:8], df2.velocity.iloc[4:8],1)\n",
    "pull_20_200c =np.polyfit(df2.black_out_time.iloc[8:12], df2.velocity.iloc[8:12],1)\n",
    "pull_40_200c =np.polyfit(df2.black_out_time.iloc[12:16], df2.velocity.iloc[12:16],1)\n",
    "\n",
    "fig, axes = plt.subplots(1,4)\n",
    "fig.tight_layout()\n",
    "\n",
    "axes[0].scatter(df2.black_out_time.iloc[0:4], df2.velocity.iloc[0:4], c='red')\n",
    "axes[0].plot(df2.black_out_time.iloc[0:4], np.polyval(pull_20_c,df2.black_out_time.iloc[0:4]), 'r-')\n",
    "axes[0].set_xlabel('blackout time $\\Delta t $ in s')\n",
    "axes[0].set_ylabel('velocity $ v $ in m/s')\n",
    "axes[0].title.set_text('pull 20 g')\n",
    "\n",
    "\n",
    "axes[1].scatter(df2.black_out_time.iloc[4:8], df2.velocity.iloc[4:8], c='blue')\n",
    "axes[1].plot(df2.black_out_time.iloc[4:8], np.polyval(pull_40_c,df2.black_out_time.iloc[4:8]), 'b-')\n",
    "axes[1].set_xlabel('blackout time $\\Delta t $ in s')\n",
    "axes[1].set_ylabel('velocity $ v $ in m/s')\n",
    "axes[1].title.set_text('pull 40 g')\n",
    "\n",
    "axes[2].scatter(df2.black_out_time.iloc[8:12], df2.velocity.iloc[8:12], c='green')\n",
    "axes[2].plot(df2.black_out_time.iloc[8:12], np.polyval(pull_20_200c,df2.black_out_time.iloc[4:8]), 'g-')\n",
    "axes[2].set_xlabel('blackout time $\\Delta t $ in s')\n",
    "axes[2].set_ylabel('velocity $ v $ in m/s')\n",
    "axes[2].title.set_text('pull 20 g,cart + 200 g')\n",
    "\n",
    "axes[3].scatter(df2.black_out_time.iloc[12:16], df2.velocity.iloc[12:16], c='magenta')\n",
    "axes[3].plot(df2.black_out_time.iloc[12:16], np.polyval(pull_40_200c,df2.black_out_time.iloc[4:8]), 'm-')\n",
    "axes[3].set_xlabel('blackout time $\\Delta t $ in s')\n",
    "axes[3].set_ylabel('velocity $ v $ in m/s')\n",
    "axes[3].title.set_text('pull 40 g,cart + 200 g')\n",
    "\n"
   ]
  },
  {
   "cell_type": "markdown",
   "metadata": {},
   "source": [
    "<h4 style ='text-align:center;' >Figure 6: Regression lines for $v(t)$ as a function of the blackout time $\\Delta t$ </h4>\n",
    "\n",
    ">"
   ]
  },
  {
   "cell_type": "code",
   "execution_count": 180,
   "metadata": {},
   "outputs": [
    {
     "data": {
      "text/markdown": [
       "The extracted slope; acceleration for pull 20 g,cart is: $-0.812 m/s^2$                     \n",
       "                    \n",
       "The extracted slope; acceleration for pull 40 g,cart is: $-1.737 m/s^2$\n",
       "\n",
       "The extracted slope; acceleration for pull 20 g,cart + 200 g is: $-0.669 m/s^2$\n",
       "\n",
       "The extracted slope; acceleration for pull 40 g,cart + 200 g is: $-1.026 m/s^2$\n"
      ],
      "text/plain": [
       "<IPython.core.display.Markdown object>"
      ]
     },
     "metadata": {},
     "output_type": "display_data"
    }
   ],
   "source": [
    "display(Markdown(\n",
    "rf\"\"\"The extracted slope; acceleration for pull 20 g,cart is: ${round(pull_20_c[0]/100,3)} m/s^2$                     \n",
    "                    \n",
    "The extracted slope; acceleration for pull 40 g,cart is: ${round(pull_40_c[0]/100,3)} m/s^2$\n",
    "\n",
    "The extracted slope; acceleration for pull 20 g,cart + 200 g is: ${round(pull_20_200c[0]/100,3)} m/s^2$\n",
    "\n",
    "The extracted slope; acceleration for pull 40 g,cart + 200 g is: ${round(pull_40_200c[0]/100,3)} m/s^2$\n",
    "\"\"\"))"
   ]
  },
  {
   "cell_type": "markdown",
   "metadata": {},
   "source": [
    "### Q: Calculate theoretical acceleration:\n",
    ">\n",
    "If we want to speed up an object, a force is needed. This could be the gravitational force Fg acting on a\n",
    "second object of mass M moving with the gravitational acceleration g. If we attach the masses to each\n",
    "other with a thin thread that runs over a pulley, the force Fg will accelerate both objects – one\n",
    "horizontally, one vertically. So we can choose the inertial mass m of the object we want to investigate\n",
    "independently from the gravitational mass of the pulling object M. The resulting acceleration is modeled\n",
    "with:\n",
    "\n",
    "$$ F_g = M.g = (m+M).a \\Leftrightarrow $$\n",
    "\n",
    "$$ a= \\frac{M}{m+M}.g \\tag{7}$$"
   ]
  },
  {
   "cell_type": "code",
   "execution_count": 183,
   "metadata": {},
   "outputs": [
    {
     "data": {
      "text/html": [
       "<div>\n",
       "<style scoped>\n",
       "    .dataframe tbody tr th:only-of-type {\n",
       "        vertical-align: middle;\n",
       "    }\n",
       "\n",
       "    .dataframe tbody tr th {\n",
       "        vertical-align: top;\n",
       "    }\n",
       "\n",
       "    .dataframe thead th {\n",
       "        text-align: right;\n",
       "    }\n",
       "</style>\n",
       "<table border=\"1\" class=\"dataframe\">\n",
       "  <thead>\n",
       "    <tr style=\"text-align: right;\">\n",
       "      <th></th>\n",
       "      <th>M in kg</th>\n",
       "      <th>m in kg</th>\n",
       "      <th>g in kgm/s</th>\n",
       "      <th>acceleration $a$ in m/$s^2$</th>\n",
       "    </tr>\n",
       "  </thead>\n",
       "  <tbody>\n",
       "    <tr>\n",
       "      <th>0</th>\n",
       "      <td>0.02</td>\n",
       "      <td>0.401</td>\n",
       "      <td>9.81</td>\n",
       "      <td>-0.47</td>\n",
       "    </tr>\n",
       "    <tr>\n",
       "      <th>1</th>\n",
       "      <td>0.04</td>\n",
       "      <td>0.401</td>\n",
       "      <td>9.81</td>\n",
       "      <td>-0.89</td>\n",
       "    </tr>\n",
       "    <tr>\n",
       "      <th>2</th>\n",
       "      <td>0.02</td>\n",
       "      <td>0.601</td>\n",
       "      <td>9.81</td>\n",
       "      <td>-0.32</td>\n",
       "    </tr>\n",
       "    <tr>\n",
       "      <th>3</th>\n",
       "      <td>0.04</td>\n",
       "      <td>0.801</td>\n",
       "      <td>9.81</td>\n",
       "      <td>-0.47</td>\n",
       "    </tr>\n",
       "  </tbody>\n",
       "</table>\n",
       "</div>"
      ],
      "text/plain": [
       "   M in kg  m in kg  g in kgm/s  acceleration $a$ in m/$s^2$\n",
       "0     0.02    0.401        9.81                        -0.47\n",
       "1     0.04    0.401        9.81                        -0.89\n",
       "2     0.02    0.601        9.81                        -0.32\n",
       "3     0.04    0.801        9.81                        -0.47"
      ]
     },
     "execution_count": 183,
     "metadata": {},
     "output_type": "execute_result"
    }
   ],
   "source": [
    "theoretical = {'M': (0.02, 0.04, 0.02, 0.04),\n",
    "               'm': (0.401, 0.401, 0.601, 0.801),\n",
    "               'g': (-9.81, -9.81, -9.81, -9.81)}\n",
    "\n",
    "theoretical_df = pd.DataFrame(pull)\n",
    "\n",
    "theoretical_df['a'] = (theoretical_df.M/(theoretical_df.m +theoretical_df.M))*-9.81\n",
    "theoretical_df['a'] = round(theoretical_df['a'],2)\n",
    "\n",
    "\n",
    "theoretical_df = theoretical_df.rename(columns= {'M':'M in kg',\n",
    "                                                 'm':'m in kg',\n",
    "                                                 'g':'g in kgm/s',\n",
    "                                                 'a':'acceleration $a$ in m/$s^2$'})\n",
    "theoretical_df\n"
   ]
  },
  {
   "cell_type": "markdown",
   "metadata": {},
   "source": [
    "# 4.2 Data: Results\n",
    "\n",
    ">"
   ]
  },
  {
   "cell_type": "markdown",
   "metadata": {},
   "source": [
    "## Task 2\n",
    "\n",
    "![image](https://i.gyazo.com/ab91c3f5be481d38d55e328f90040ecd.png)\n"
   ]
  },
  {
   "cell_type": "markdown",
   "metadata": {},
   "source": [
    "## Task 3\n",
    "\n",
    "![image](https://i.gyazo.com/1bc524b0d02611da6f18c4acf7262e05.png)"
   ]
  },
  {
   "cell_type": "markdown",
   "metadata": {},
   "source": [
    "## Cases:\n",
    "\n",
    "![Image](https://i.gyazo.com/969c57e1113f214d893b4a10d8296dd3.png)"
   ]
  },
  {
   "cell_type": "code",
   "execution_count": null,
   "metadata": {},
   "outputs": [
    {
     "data": {
      "application/javascript": [
       "window.require && require([\"base/js/namespace\"],function(Jupyter){Jupyter.notebook.save_checkpoint()})"
      ],
      "text/plain": [
       "<IPython.core.display.Javascript object>"
      ]
     },
     "metadata": {},
     "output_type": "display_data"
    }
   ],
   "source": [
    "# Execute this to save new versions of the notebook\n",
    "jovian.commit(project=\"physics-lab-1\")"
   ]
  },
  {
   "cell_type": "code",
   "execution_count": null,
   "metadata": {},
   "outputs": [],
   "source": []
  },
  {
   "cell_type": "code",
   "execution_count": null,
   "metadata": {},
   "outputs": [],
   "source": []
  }
 ],
 "metadata": {
  "kernelspec": {
   "display_name": "Python 3 (ipykernel)",
   "language": "python",
   "name": "python3"
  },
  "language_info": {
   "codemirror_mode": {
    "name": "ipython",
    "version": 3
   },
   "file_extension": ".py",
   "mimetype": "text/x-python",
   "name": "python",
   "nbconvert_exporter": "python",
   "pygments_lexer": "ipython3",
   "version": "3.9.6"
  }
 },
 "nbformat": 4,
 "nbformat_minor": 2
}
