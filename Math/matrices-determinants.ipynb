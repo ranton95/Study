{
 "cells": [
  {
   "cell_type": "markdown",
   "metadata": {},
   "source": [
    "# Matrices & Determinants\n",
    "\n",
    "A practice set for Latex and Numpy on the topic of Matrices and Determinants.\n",
    "How to use this notebook:\n",
    "\n",
    "1. Use the \"Run\" button to execute the code.\n",
    "2. Select binder or collab\n",
    "3. Once the binder window is open, Click Kernel-restart and run all.\n",
    "\n",
    "Contact:\n",
    "[Royce]()\n",
    "[Durvish]()"
   ]
  },
  {
   "cell_type": "markdown",
   "metadata": {},
   "source": [
    "#### Given: \n",
    "\\begin{equation}\n",
    "A= \\left( \\begin{array}{ccc}\n",
    "    2 &    1 &   4\\\\\n",
    "  3 &    1 &  8\\end{array} \\right)\\qquad\n",
    "B = \\left( \\begin{array}{ccc}\n",
    "1 & 3\\\\\n",
    "0 & 2\\\\\n",
    "1 & -2\\\\\n",
    "0 & 1\\end{array} \\right)\\qquad\n",
    "C = \\left( \\begin{array}{ccc}\n",
    "2 & -1\\\\\n",
    "4 & -3\\end{array} \\right)\n",
    "\\end{equation}\n",
    ">\n",
    "\\begin{equation}\n",
    "x= \\left( \\begin{array}{ccc}\n",
    "    3\\\\\n",
    "    -1\\\\\n",
    "    1\\end{array} \\right)\\qquad\n",
    "y = \\left( \\begin{array}{ccc}\n",
    "2\\\\\n",
    "2\\end{array} \\right)\\qquad\n",
    "z = \\left( \\begin{array}{ccc}\n",
    "-4\\\\\n",
    "1\\\\\n",
    "0\\\\\n",
    "8\\end{array} \\right)\n",
    "\\end{equation}\n",
    ">\n",
    "#### Questions:\n",
    "\n",
    "**A:** Compute the all possible matrix products: \n",
    "$MN$, with $M,N \\in \\{A,B,C\\} $\n",
    "\n",
    "**B:** Compute the all possible matrix products: \n",
    "$Mv$, with $M \\in \\{A,B,C\\}$ $ v \\in \\{x,y,z\\} $\n",
    "\n",
    "**C:** Compute the all possible matrix products: \n",
    "$MNP$, with $M,N,P \\in \\{A,B,C\\}$ \n",
    "\n",
    "**D:** Compute the all possible matrix products: \n",
    "$v^TM$, with $M \\in \\{A,B,C\\}$ and $v \\in \\{x,y,z\\} $\n",
    "\n",
    "**E:** Compute the all possible matrix products: \n",
    "$v^TMw$, with $M \\in \\{A,B,C\\}$ and $v,w \\in \\{x,y,z\\} $\n",
    "\n",
    "**F:** Compute the all possible matrix products: \n",
    "$v^Tw$, with $v,w \\in \\{x,y,z\\} $\n",
    "\n",
    "**G:** Compute the all possible matrix products: \n",
    "$vw^T$, with $v,w \\in \\{x,y,z\\} $\n"
   ]
  },
  {
   "cell_type": "markdown",
   "metadata": {},
   "source": [
    "## Importing packages:"
   ]
  },
  {
   "cell_type": "code",
   "execution_count": 1,
   "metadata": {},
   "outputs": [],
   "source": [
    "!pip install jovian python-qt --upgrade --quiet"
   ]
  },
  {
   "cell_type": "code",
   "execution_count": 33,
   "metadata": {},
   "outputs": [
    {
     "name": "stdout",
     "output_type": "stream",
     "text": [
      "Note: you may need to restart the kernel to use updated packages.\n"
     ]
    }
   ],
   "source": [
    "pip install --user array_to_latex --upgrade --quiet"
   ]
  },
  {
   "cell_type": "code",
   "execution_count": 34,
   "metadata": {},
   "outputs": [],
   "source": [
    "import numpy as np\n",
    "from numpy import linalg as LA\n",
    "import jovian"
   ]
  },
  {
   "cell_type": "code",
   "execution_count": 35,
   "metadata": {},
   "outputs": [],
   "source": [
    "to_tex = lambda A : a2l.to_ltx(A, frmt = '{:6}', arraytype = 'bmatrix', mathform=True)"
   ]
  },
  {
   "cell_type": "markdown",
   "metadata": {},
   "source": [
    "## A: Two matrices:\n",
    ">\n",
    "Compute the all possible matrix products: \n",
    "$MN$, with $M,N \\in \\{A,B,C\\} $\n",
    ">"
   ]
  },
  {
   "cell_type": "markdown",
   "metadata": {},
   "source": [
    "Lets create the matrix A, B and C along with the vectors x, y and z using the `numpy.matrix` function"
   ]
  },
  {
   "cell_type": "code",
   "execution_count": 5,
   "metadata": {},
   "outputs": [],
   "source": [
    "A = np.matrix([[2,1,4],\n",
    "              [3,1,8]])\n",
    "\n",
    "B = np.matrix([[1,3],\n",
    "              [0,2],\n",
    "              [1,-2],\n",
    "              [0,1]])\n",
    "\n",
    "C = np.matrix([[2,-1],\n",
    "              [4,-3]])"
   ]
  },
  {
   "cell_type": "code",
   "execution_count": 6,
   "metadata": {},
   "outputs": [],
   "source": [
    "x = np.array([[3],\n",
    "             [-1],\n",
    "             [1]])\n",
    "\n",
    "y = np.array([[2],\n",
    "             [2]])\n",
    "\n",
    "z = np.array([[-4],\n",
    "             [1],\n",
    "             [0],\n",
    "             [8]])             "
   ]
  },
  {
   "cell_type": "code",
   "execution_count": 7,
   "metadata": {},
   "outputs": [
    {
     "name": "stdout",
     "output_type": "stream",
     "text": [
      "Matrix A shape: (2, 3)\n",
      "Matrix B shape: (4, 2)\n",
      "Matrix C shape: (2, 2)\n"
     ]
    }
   ],
   "source": [
    "print('Matrix A shape:', A.shape)\n",
    "print('Matrix B shape:', B.shape)\n",
    "print('Matrix C shape:', C.shape)"
   ]
  },
  {
   "cell_type": "code",
   "execution_count": 8,
   "metadata": {},
   "outputs": [
    {
     "name": "stdout",
     "output_type": "stream",
     "text": [
      "Vector x shape: (3, 1)\n",
      "Matrix y shape: (2, 1)\n",
      "Matrix z shape: (4, 1)\n"
     ]
    }
   ],
   "source": [
    "print('Vector x shape:', x.shape)\n",
    "print('Matrix y shape:', y.shape)\n",
    "print('Matrix z shape:', z.shape)"
   ]
  },
  {
   "cell_type": "code",
   "execution_count": 9,
   "metadata": {},
   "outputs": [
    {
     "name": "stdout",
     "output_type": "stream",
     "text": [
      "Vector x shape: (3, 1)\n",
      "Matrix y shape: (2, 1)\n",
      "Matrix z shape: (4, 1)\n"
     ]
    }
   ],
   "source": [
    "print('Vector x shape:', x.shape)\n",
    "print('Matrix y shape:', y.shape)\n",
    "print('Matrix z shape:', z.shape)"
   ]
  },
  {
   "cell_type": "code",
   "execution_count": 10,
   "metadata": {},
   "outputs": [],
   "source": [
    "BC = B*C\n",
    "#BC.shape\n",
    "#to_tex(BC) ###remove the single hash to retrieve Latex"
   ]
  },
  {
   "cell_type": "markdown",
   "metadata": {},
   "source": [
    "   $$ BC_{(4,2)}= \\begin{bmatrix}\n",
    "         14.00 & -10.00\\\\\n",
    "          8.00 &  -6.00\\\\\n",
    "        -6.00 &    5.00\\\\\n",
    "          4.00 &  -3.00\n",
    "      \\end{bmatrix} $$"
   ]
  },
  {
   "cell_type": "code",
   "execution_count": 11,
   "metadata": {},
   "outputs": [],
   "source": [
    "BA = B*A\n",
    "#BA.shape\n",
    "#to_tex(BA)"
   ]
  },
  {
   "cell_type": "markdown",
   "metadata": {},
   "source": [
    "$$ BA_{(4,3)} =\\begin{bmatrix}\n",
    "   11.00 &    4.00 &   28.00\\\\\n",
    "    6.00 &    2.00 &   16.00\\\\\n",
    "  -4.00 &  -1.00 & -12.00\\\\\n",
    "    3.00 &    1.00 &    8.00\n",
    "\\end{bmatrix} $$"
   ]
  },
  {
   "cell_type": "code",
   "execution_count": 12,
   "metadata": {},
   "outputs": [],
   "source": [
    "CA = C*A\n",
    "#CA.shape\n",
    "#to_tex(CA)"
   ]
  },
  {
   "cell_type": "markdown",
   "metadata": {},
   "source": [
    "$$ CA_{(2,3)}= \\begin{bmatrix}\n",
    "    1.00 &    1.00 &    0.00\\\\\n",
    "  -1.00 &    1.00 &  -8.00\n",
    "\\end{bmatrix} $$"
   ]
  },
  {
   "cell_type": "markdown",
   "metadata": {},
   "source": [
    ">The possible combinations are $BC$, $BA$ and $CA$"
   ]
  },
  {
   "cell_type": "markdown",
   "metadata": {},
   "source": [
    "## B: Matrix and Vector:\n",
    ">\n",
    "Compute the all possible matrix products: \n",
    "$Mv$, with $M \\in \\{A,B,C\\}$ $ v \\in \\{x,y,z\\} $\n",
    ">"
   ]
  },
  {
   "cell_type": "markdown",
   "metadata": {},
   "source": [
    "Computing the possible combinations $ Ax,By $ & $Cy $:"
   ]
  },
  {
   "cell_type": "code",
   "execution_count": 13,
   "metadata": {},
   "outputs": [],
   "source": [
    "Ax= A*x\n",
    "#Ax.shape\n",
    "#to_tex(Ax)"
   ]
  },
  {
   "cell_type": "markdown",
   "metadata": {},
   "source": [
    "$$ Ax_{(2,1)}= \\begin{bmatrix}\n",
    "    9\\\\\n",
    "   16\n",
    "\\end{bmatrix} $$"
   ]
  },
  {
   "cell_type": "code",
   "execution_count": 14,
   "metadata": {},
   "outputs": [],
   "source": [
    "By= B*y\n",
    "#to_tex(By)"
   ]
  },
  {
   "cell_type": "markdown",
   "metadata": {},
   "source": [
    "$$ By_{(4,1)}= \\begin{bmatrix}\n",
    "    8\\\\\n",
    "    4\\\\\n",
    "  -2\\\\\n",
    "    2\n",
    "\\end{bmatrix} $$"
   ]
  },
  {
   "cell_type": "code",
   "execution_count": 15,
   "metadata": {},
   "outputs": [],
   "source": [
    "Cy= C*y\n",
    "#to_tex(Cy)"
   ]
  },
  {
   "cell_type": "markdown",
   "metadata": {},
   "source": [
    "$$ Cy_{(2,1)}= \\begin{bmatrix}\n",
    "    2\\\\\n",
    "    2\n",
    "\\end{bmatrix}$$"
   ]
  },
  {
   "cell_type": "markdown",
   "metadata": {},
   "source": [
    "For the remaining combinations:\n",
    "\n",
    "Ay = shapes (2,3) and (2,1) not aligned: 3 (dim 1) != 2 (dim 0)\n",
    "\n",
    "Az = shapes (2,3) and (4,1) not aligned: 3 (dim 1) != 4 (dim 0)\n",
    "\n",
    "Bx = shapes (4,2) and (3,1) not aligned: 2 (dim 1) != 3 (dim 0)\n",
    "\n",
    "Bz = shapes (4,2) and (4,1) not aligned: 2 (dim 1) != 4 (dim 0)\n",
    "\n",
    "Cx = shapes (2,2) and (3,1) not aligned: 2 (dim 1) != 3 (dim 0)\n",
    "\n",
    "Cz = shapes (2,2) and (4,1) not aligned: 2 (dim 1) != 4 (dim 0)\n"
   ]
  },
  {
   "cell_type": "markdown",
   "metadata": {},
   "source": [
    "## C: Three matrices:\n",
    ">\n",
    "Compute the all possible matrix products: \n",
    "$MNP$, with $M,N,P \\in \\{A,B,C\\}$ \n",
    ">"
   ]
  },
  {
   "cell_type": "markdown",
   "metadata": {},
   "source": [
    "According to the associative rule, we can verify the above combinations using: $(AB)C=A(BC)$\n",
    "\n",
    "The possible combinations are: \n",
    "\n",
    "1. $(BC)A = B(CA):$"
   ]
  },
  {
   "cell_type": "code",
   "execution_count": 16,
   "metadata": {},
   "outputs": [],
   "source": [
    "BC_A =BC * A\n",
    "#BC_A.shape\n",
    "#to_tex(BC_A)"
   ]
  },
  {
   "cell_type": "markdown",
   "metadata": {},
   "source": [
    "$$ (BC)A_{(4,3)}= \\begin{bmatrix}\n",
    "     -2  &       4  &    -24 \\\\\n",
    "     -2  &       2  &    -16 \\\\\n",
    "       3  &     -1  &      16 \\\\\n",
    "     -1  &       1  &     -8 \n",
    "\\end{bmatrix} $$"
   ]
  },
  {
   "cell_type": "code",
   "execution_count": 17,
   "metadata": {},
   "outputs": [],
   "source": [
    "B_CA =B * CA\n",
    "#B_CA.shape\n",
    "#to_tex(B_CA)"
   ]
  },
  {
   "cell_type": "markdown",
   "metadata": {},
   "source": [
    "$$ B(CA)_{(4,3)}= \\begin{bmatrix}\n",
    "     -2  &       4  &    -24 \\\\\n",
    "     -2  &       2  &    -16 \\\\\n",
    "       3  &     -1  &      16 \\\\\n",
    "     -1  &       1  &     -8 \n",
    "\\end{bmatrix} $$"
   ]
  },
  {
   "cell_type": "markdown",
   "metadata": {},
   "source": [
    "2. $(BC)C = B(CC)$"
   ]
  },
  {
   "cell_type": "code",
   "execution_count": 18,
   "metadata": {},
   "outputs": [],
   "source": [
    "BC_C =BC * C\n",
    "#BC_C.shape\n",
    "#to_tex(BC_C)"
   ]
  },
  {
   "cell_type": "markdown",
   "metadata": {},
   "source": [
    "$$ (BC)C_{(4,2)}= \\begin{bmatrix}\n",
    "    -12  &      16 \\\\\n",
    "     -8  &      10 \\\\\n",
    "       8  &     -9 \\\\\n",
    "     -4  &       5 \n",
    "\\end{bmatrix} $$"
   ]
  },
  {
   "cell_type": "code",
   "execution_count": 19,
   "metadata": {},
   "outputs": [],
   "source": [
    "B_CC =B * (C*C)\n",
    "#BC_C.shape\n",
    "#to_tex(B_CC)"
   ]
  },
  {
   "cell_type": "markdown",
   "metadata": {},
   "source": [
    "$$ B(CC)_{(4,2)}= \\begin{bmatrix}\n",
    "    -12  &      16 \\\\\n",
    "     -8  &      10 \\\\\n",
    "       8  &     -9 \\\\\n",
    "     -4  &       5 \n",
    "\\end{bmatrix} $$"
   ]
  },
  {
   "cell_type": "markdown",
   "metadata": {},
   "source": [
    "## D: Vector and matrix:\n",
    ">\n",
    "Compute the all possible matrix products: \n",
    "$v^TM$, with $M \\in \\{A,B,C\\}$ and $v \\in \\{x,y,z\\} $\n",
    ">"
   ]
  },
  {
   "cell_type": "markdown",
   "metadata": {},
   "source": [
    "To compute this, we can create a new set of transpose matrices for $x^T$ , $y^T$, $z^T$ as follows:"
   ]
  },
  {
   "cell_type": "code",
   "execution_count": 20,
   "metadata": {},
   "outputs": [],
   "source": [
    "x_t = np.transpose(x)\n",
    "y_t = np.transpose(y)\n",
    "z_t = np.transpose(z)\n",
    "\n",
    "#remove the hashes below to extract latex:\n",
    "#to_tex(x_t)\n",
    "#to_tex(y_t)\n",
    "#to_tex(z_t)"
   ]
  },
  {
   "cell_type": "markdown",
   "metadata": {},
   "source": [
    "\\begin{equation}\n",
    "x^T= \\left( \\begin{array}{ccc}\n",
    "    3 &  -1 &    1\\end{array} \\right)\\qquad\n",
    "y^T = \\left( \\begin{array}{ccc}\n",
    "2 &    2\\end{array} \\right)\\qquad\n",
    "z^T = \\left( \\begin{array}{ccc}\n",
    "-4 &    1 &    0 &    8\\end{array} \\right)\n",
    "\\end{equation}"
   ]
  },
  {
   "cell_type": "code",
   "execution_count": 21,
   "metadata": {},
   "outputs": [
    {
     "name": "stdout",
     "output_type": "stream",
     "text": [
      "x transpose shape: (1, 3)\n",
      "y transpose shape: (1, 2)\n",
      "z transpose shape: (1, 4)\n"
     ]
    }
   ],
   "source": [
    "print('x transpose shape:', x_t.shape)\n",
    "print('y transpose shape:', y_t.shape)\n",
    "print('z transpose shape:', z_t.shape)"
   ]
  },
  {
   "cell_type": "markdown",
   "metadata": {},
   "source": [
    "The possible combinations are: $(y^TA)x$ , $(z^TB)y$ and $(y^TC)y$"
   ]
  },
  {
   "cell_type": "code",
   "execution_count": 22,
   "metadata": {},
   "outputs": [],
   "source": [
    "y_tA = y_t * A \n",
    "#y_tA.shape\n",
    "#to_tex(y_tA)"
   ]
  },
  {
   "cell_type": "markdown",
   "metadata": {},
   "source": [
    "$$ y^TA_{(1,3)}= \\begin{bmatrix}\n",
    "      10  &       4  &      24 \n",
    "\\end{bmatrix} $$"
   ]
  },
  {
   "cell_type": "code",
   "execution_count": 23,
   "metadata": {},
   "outputs": [],
   "source": [
    "z_tB = z_t * B \n",
    "#z_tB.shape\n",
    "#to_tex(z_tB)"
   ]
  },
  {
   "cell_type": "markdown",
   "metadata": {},
   "source": [
    "$$ z^TB_{(1,2)}= \\begin{bmatrix}\n",
    "     -4  &     -2 \n",
    "\\end{bmatrix} $$"
   ]
  },
  {
   "cell_type": "code",
   "execution_count": 24,
   "metadata": {},
   "outputs": [],
   "source": [
    "y_tC = y_t * C \n",
    "#y_tC.shape\n",
    "#to_tex(y_tC)"
   ]
  },
  {
   "cell_type": "markdown",
   "metadata": {},
   "source": [
    "$$ y^TC_{(1,2)}= \\begin{bmatrix}\n",
    "      12  &     -8 \n",
    "\\end{bmatrix} $$"
   ]
  },
  {
   "cell_type": "markdown",
   "metadata": {},
   "source": [
    "## E: Vector-matrix-vector:\n",
    ">\n",
    "Compute the all possible matrix products: \n",
    "$v^TMw$, with $M \\in \\{A,B,C\\}$ and $v,w \\in \\{x,y,z\\} $\n",
    ">"
   ]
  },
  {
   "cell_type": "markdown",
   "metadata": {},
   "source": [
    "To compute this, we can create a new set of transpose matrices for $x^T$ , $y^T$, $z^T$ as follows:"
   ]
  },
  {
   "cell_type": "markdown",
   "metadata": {},
   "source": [
    "The possible combinations are: $(y^TA)x$ , $(z^TB)y$ and $(y^TC)y$"
   ]
  },
  {
   "cell_type": "code",
   "execution_count": 25,
   "metadata": {},
   "outputs": [
    {
     "data": {
      "text/plain": [
       "matrix([[10,  4, 24]])"
      ]
     },
     "execution_count": 25,
     "metadata": {},
     "output_type": "execute_result"
    }
   ],
   "source": [
    "y_tA"
   ]
  },
  {
   "cell_type": "code",
   "execution_count": 26,
   "metadata": {},
   "outputs": [],
   "source": [
    "y_tA_x = y_tA * x \n",
    "#y_tA_x.shape\n",
    "#to_tex(y_tA_x)"
   ]
  },
  {
   "cell_type": "markdown",
   "metadata": {},
   "source": [
    "$$ (y^TA)x= \\begin{bmatrix}\n",
    "      50 \n",
    "\\end{bmatrix} $$"
   ]
  },
  {
   "cell_type": "code",
   "execution_count": 27,
   "metadata": {},
   "outputs": [],
   "source": [
    "z_tB_y = z_tB * y \n",
    "#z_tB_y.shape\n",
    "#to_tex(z_tB_y)"
   ]
  },
  {
   "cell_type": "markdown",
   "metadata": {},
   "source": [
    "$$ (z^TB)y_{}= \\begin{bmatrix}\n",
    "    -12 \n",
    "\\end{bmatrix} $$"
   ]
  },
  {
   "cell_type": "code",
   "execution_count": 28,
   "metadata": {},
   "outputs": [],
   "source": [
    "y_tC = y_t * C \n",
    "y_tC_y = y_tC * y \n",
    "#y_tC.shape\n",
    "#to_tex(y_tC_y)"
   ]
  },
  {
   "cell_type": "markdown",
   "metadata": {},
   "source": [
    "$$ (y^TC)y_{}= \\begin{bmatrix}\n",
    "       8 \n",
    "\\end{bmatrix}$$"
   ]
  },
  {
   "cell_type": "markdown",
   "metadata": {},
   "source": [
    "## F: Vector-vector\n",
    ">\n",
    "Compute the all possible matrix products: \n",
    "$v^Tw$, with $v,w \\in \\{x,y,z\\} $\n",
    ">"
   ]
  },
  {
   "cell_type": "markdown",
   "metadata": {},
   "source": [
    "The possible combinations are: $(x^T)x$ , $(y^T)y$ and $(z^T)z$"
   ]
  },
  {
   "cell_type": "code",
   "execution_count": 29,
   "metadata": {},
   "outputs": [],
   "source": [
    "x_t_x = np.matmul(x_t,x)\n",
    "#to_tex(x_t_x)"
   ]
  },
  {
   "cell_type": "markdown",
   "metadata": {},
   "source": [
    "$$ x^T.x=\\begin{bmatrix}\n",
    "      11 \n",
    "\\end{bmatrix}$$"
   ]
  },
  {
   "cell_type": "code",
   "execution_count": 37,
   "metadata": {},
   "outputs": [],
   "source": [
    "y_t_x = np.matmul(y_t,y)\n",
    "#to_tex(y_t_x)"
   ]
  },
  {
   "cell_type": "markdown",
   "metadata": {},
   "source": [
    "$$ y^T.y=\\begin{bmatrix}\n",
    "       8 \n",
    "\\end{bmatrix}$$"
   ]
  },
  {
   "cell_type": "code",
   "execution_count": 38,
   "metadata": {},
   "outputs": [],
   "source": [
    "z_t_z = np.matmul(z_t,z)\n",
    "#to_tex(z_t_z)"
   ]
  },
  {
   "cell_type": "markdown",
   "metadata": {},
   "source": [
    "$$ z^T.z=\\begin{bmatrix}\n",
    "      81 \n",
    "\\end{bmatrix}$$"
   ]
  },
  {
   "cell_type": "markdown",
   "metadata": {},
   "source": [
    "## G: vector-vector\n",
    ">\n",
    "Compute the all possible matrix products: \n",
    "$vw^T$, with $v,w \\in \\{x,y,z\\} $\n",
    ">"
   ]
  },
  {
   "cell_type": "code",
   "execution_count": 39,
   "metadata": {},
   "outputs": [],
   "source": [
    "x_xt = np.matmul(x,x_t)\n",
    "#to_tex(x_xt)"
   ]
  },
  {
   "cell_type": "markdown",
   "metadata": {},
   "source": [
    "$$ x.x^T= \\begin{bmatrix}\n",
    "    9.00 &  -3.00 &    3.00\\\\\n",
    "  -3.00 &    1.00 &  -1.00\\\\\n",
    "    3.00 &  -1.00 &    1.00\n",
    "\\end{bmatrix} $$"
   ]
  },
  {
   "cell_type": "code",
   "execution_count": 40,
   "metadata": {},
   "outputs": [],
   "source": [
    "y_xt = np.matmul(y,x_t)\n",
    "#to_tex(y_xt)"
   ]
  },
  {
   "cell_type": "markdown",
   "metadata": {},
   "source": [
    "$$ y.x^T= \\begin{bmatrix}\n",
    "       6  &     -2  &       2 \\\\\n",
    "       6  &     -2  &       2 \n",
    "\\end{bmatrix} $$"
   ]
  },
  {
   "cell_type": "code",
   "execution_count": 41,
   "metadata": {},
   "outputs": [],
   "source": [
    "z_xt = np.matmul(z,x_t)\n",
    "#to_tex(z_xt)"
   ]
  },
  {
   "cell_type": "markdown",
   "metadata": {},
   "source": [
    "$$ x.x^T= \\begin{bmatrix}\n",
    "    -12  &       4  &     -4 \\\\\n",
    "       3  &     -1  &       1 \\\\\n",
    "       0  &       0  &       0 \\\\\n",
    "      24  &     -8  &       8 \n",
    "\\end{bmatrix} $$"
   ]
  },
  {
   "cell_type": "code",
   "execution_count": 42,
   "metadata": {},
   "outputs": [],
   "source": [
    "x_yt= np.matmul(x,y_t)\n",
    "#to_tex(x_yt)"
   ]
  },
  {
   "cell_type": "markdown",
   "metadata": {},
   "source": [
    "$$ x.y^T= \\begin{bmatrix}\n",
    "       6  &       6 \\\\\n",
    "     -2  &     -2 \\\\\n",
    "       2  &       2 \n",
    "\\end{bmatrix}$$"
   ]
  },
  {
   "cell_type": "code",
   "execution_count": 43,
   "metadata": {},
   "outputs": [],
   "source": [
    "y_yt= np.matmul(y,y_t)\n",
    "#to_tex(y_yt)"
   ]
  },
  {
   "cell_type": "markdown",
   "metadata": {},
   "source": [
    "$$ y.y^T= \\begin{bmatrix}\n",
    "       4  &       4 \\\\\n",
    "       4  &       4 \n",
    "\\end{bmatrix}$$"
   ]
  },
  {
   "cell_type": "code",
   "execution_count": 44,
   "metadata": {},
   "outputs": [],
   "source": [
    "z_yt= np.matmul(z,y_t)\n",
    "#to_tex(z_yt)"
   ]
  },
  {
   "cell_type": "markdown",
   "metadata": {},
   "source": [
    "$$ z.y^T= \\begin{bmatrix}\n",
    "     -8  &     -8 \\\\\n",
    "       2  &       2 \\\\\n",
    "       0  &       0 \\\\\n",
    "      16  &      16 \n",
    "\\end{bmatrix}\n",
    "$$"
   ]
  },
  {
   "cell_type": "markdown",
   "metadata": {},
   "source": [
    "Computing the vectors $ x,y \\& z $ multiplied with $z^T$"
   ]
  },
  {
   "cell_type": "code",
   "execution_count": 45,
   "metadata": {},
   "outputs": [],
   "source": [
    "x_zt= np.matmul(x,z_t)\n",
    "#to_tex(x_zt)"
   ]
  },
  {
   "cell_type": "markdown",
   "metadata": {},
   "source": [
    "$$ x.z^T= \\begin{bmatrix}\n",
    "    -12  &       3  &       0  &      24 \\\\\n",
    "       4  &     -1  &       0  &     -8 \\\\\n",
    "     -4  &       1  &       0  &       8 \n",
    "\\end{bmatrix} $$"
   ]
  },
  {
   "cell_type": "code",
   "execution_count": 46,
   "metadata": {},
   "outputs": [],
   "source": [
    "y_zt= np.matmul(y,z_t)\n",
    "#to_tex(y_zt)"
   ]
  },
  {
   "cell_type": "markdown",
   "metadata": {},
   "source": [
    "$$ y.z^T= \\begin{bmatrix}\n",
    "     -8  &       2  &       0  &      16 \\\\\n",
    "     -8  &       2  &       0  &      16 \n",
    "\\end{bmatrix} $$"
   ]
  },
  {
   "cell_type": "code",
   "execution_count": 49,
   "metadata": {},
   "outputs": [],
   "source": [
    "z_zt= np.matmul(z,z_t)\n",
    "#to_tex(z_zt)"
   ]
  },
  {
   "cell_type": "markdown",
   "metadata": {},
   "source": [
    "$$ z.z^T= \\begin{bmatrix}\n",
    "     16  &     -4  &       0  &    -32 \\\\\n",
    "     -4  &       1  &       0  &       8 \\\\\n",
    "       0  &       0  &       0  &       0 \\\\\n",
    "    -32  &       8  &       0  &      64 \n",
    "\\end{bmatrix} $$"
   ]
  },
  {
   "cell_type": "code",
   "execution_count": 55,
   "metadata": {},
   "outputs": [
    {
     "data": {
      "application/javascript": [
       "window.require && require([\"base/js/namespace\"],function(Jupyter){Jupyter.notebook.save_checkpoint()})"
      ],
      "text/plain": [
       "<IPython.core.display.Javascript object>"
      ]
     },
     "metadata": {},
     "output_type": "display_data"
    },
    {
     "name": "stdout",
     "output_type": "stream",
     "text": [
      "[jovian] Updating notebook \"ranton95/matrices-determinants\" on https://jovian.ai\u001b[0m\n",
      "[jovian] Committed successfully! https://jovian.ai/ranton95/matrices-determinants\u001b[0m\n"
     ]
    },
    {
     "data": {
      "text/plain": [
       "'https://jovian.ai/ranton95/matrices-determinants'"
      ]
     },
     "execution_count": 55,
     "metadata": {},
     "output_type": "execute_result"
    }
   ],
   "source": [
    "jovian.commit(project=\"matrices-determinants\")"
   ]
  },
  {
   "cell_type": "code",
   "execution_count": 1,
   "metadata": {},
   "outputs": [
    {
     "name": "stdout",
     "output_type": "stream",
     "text": [
      "Requirement already satisfied: nbconvert in c:\\programdata\\anaconda3\\lib\\site-packages (6.1.0)\n",
      "Requirement already satisfied: bleach in c:\\programdata\\anaconda3\\lib\\site-packages (from nbconvert) (4.0.0)\n",
      "Requirement already satisfied: traitlets>=5.0 in c:\\programdata\\anaconda3\\lib\\site-packages (from nbconvert) (5.1.0)\n",
      "Requirement already satisfied: pandocfilters>=1.4.1 in c:\\programdata\\anaconda3\\lib\\site-packages (from nbconvert) (1.4.3)\n",
      "Requirement already satisfied: testpath in c:\\programdata\\anaconda3\\lib\\site-packages (from nbconvert) (0.5.0)\n",
      "Requirement already satisfied: jupyterlab-pygments in c:\\programdata\\anaconda3\\lib\\site-packages (from nbconvert) (0.1.2)\n",
      "Requirement already satisfied: entrypoints>=0.2.2 in c:\\programdata\\anaconda3\\lib\\site-packages (from nbconvert) (0.3)\n",
      "Requirement already satisfied: nbclient<0.6.0,>=0.5.0 in c:\\programdata\\anaconda3\\lib\\site-packages (from nbconvert) (0.5.3)\n",
      "Requirement already satisfied: defusedxml in c:\\programdata\\anaconda3\\lib\\site-packages (from nbconvert) (0.7.1)\n",
      "Requirement already satisfied: jinja2>=2.4 in c:\\programdata\\anaconda3\\lib\\site-packages (from nbconvert) (2.11.3)\n",
      "Requirement already satisfied: mistune<2,>=0.8.1 in c:\\programdata\\anaconda3\\lib\\site-packages (from nbconvert) (0.8.4)\n",
      "Requirement already satisfied: jupyter-core in c:\\programdata\\anaconda3\\lib\\site-packages (from nbconvert) (4.8.1)\n",
      "Requirement already satisfied: nbformat>=4.4 in c:\\programdata\\anaconda3\\lib\\site-packages (from nbconvert) (5.1.3)\n",
      "Requirement already satisfied: pygments>=2.4.1 in c:\\programdata\\anaconda3\\lib\\site-packages (from nbconvert) (2.10.0)\n",
      "Requirement already satisfied: MarkupSafe>=0.23 in c:\\programdata\\anaconda3\\lib\\site-packages (from jinja2>=2.4->nbconvert) (1.1.1)\n",
      "Requirement already satisfied: jupyter-client>=6.1.5 in c:\\programdata\\anaconda3\\lib\\site-packages (from nbclient<0.6.0,>=0.5.0->nbconvert) (6.1.12)\n",
      "Requirement already satisfied: async-generator in c:\\programdata\\anaconda3\\lib\\site-packages (from nbclient<0.6.0,>=0.5.0->nbconvert) (1.10)\n",
      "Requirement already satisfied: nest-asyncio in c:\\programdata\\anaconda3\\lib\\site-packages (from nbclient<0.6.0,>=0.5.0->nbconvert) (1.5.1)\n",
      "Requirement already satisfied: pyzmq>=13 in c:\\programdata\\anaconda3\\lib\\site-packages (from jupyter-client>=6.1.5->nbclient<0.6.0,>=0.5.0->nbconvert) (22.2.1)\n",
      "Requirement already satisfied: tornado>=4.1 in c:\\programdata\\anaconda3\\lib\\site-packages (from jupyter-client>=6.1.5->nbclient<0.6.0,>=0.5.0->nbconvert) (6.1)\n",
      "Requirement already satisfied: python-dateutil>=2.1 in c:\\programdata\\anaconda3\\lib\\site-packages (from jupyter-client>=6.1.5->nbclient<0.6.0,>=0.5.0->nbconvert) (2.8.2)\n",
      "Requirement already satisfied: pywin32>=1.0 in c:\\programdata\\anaconda3\\lib\\site-packages (from jupyter-core->nbconvert) (228)\n",
      "Requirement already satisfied: ipython-genutils in c:\\programdata\\anaconda3\\lib\\site-packages (from nbformat>=4.4->nbconvert) (0.2.0)\n",
      "Requirement already satisfied: jsonschema!=2.5.0,>=2.4 in c:\\programdata\\anaconda3\\lib\\site-packages (from nbformat>=4.4->nbconvert) (3.2.0)\n",
      "Requirement already satisfied: pyrsistent>=0.14.0 in c:\\programdata\\anaconda3\\lib\\site-packages (from jsonschema!=2.5.0,>=2.4->nbformat>=4.4->nbconvert) (0.18.0)\n",
      "Requirement already satisfied: setuptools in c:\\programdata\\anaconda3\\lib\\site-packages (from jsonschema!=2.5.0,>=2.4->nbformat>=4.4->nbconvert) (58.0.4)\n",
      "Collecting six>=1.11.0\n",
      "  Using cached six-1.16.0-py2.py3-none-any.whl (11 kB)\n",
      "Requirement already satisfied: attrs>=17.4.0 in c:\\programdata\\anaconda3\\lib\\site-packages (from jsonschema!=2.5.0,>=2.4->nbformat>=4.4->nbconvert) (21.2.0)\n",
      "Requirement already satisfied: webencodings in c:\\programdata\\anaconda3\\lib\\site-packages (from bleach->nbconvert) (0.5.1)\n",
      "Requirement already satisfied: packaging in c:\\programdata\\anaconda3\\lib\\site-packages (from bleach->nbconvert) (21.0)\n",
      "Requirement already satisfied: pyparsing>=2.0.2 in c:\\programdata\\anaconda3\\lib\\site-packages (from packaging->bleach->nbconvert) (3.0.4)\n",
      "Installing collected packages: six\n",
      "  Attempting uninstall: six\n",
      "    Found existing installation: six 1.10.0\n",
      "    Uninstalling six-1.10.0:\n",
      "      Successfully uninstalled six-1.10.0\n",
      "Successfully installed six-1.16.0\n"
     ]
    },
    {
     "name": "stderr",
     "output_type": "stream",
     "text": [
      "ERROR: pip's dependency resolver does not currently take into account all the packages that are installed. This behaviour is the source of the following dependency conflicts.\n",
      "conda-repo-cli 1.0.4 requires pathlib, which is not installed.\n",
      "praw 7.5.0 requires websocket-client>=0.54.0, but you have websocket-client 0.40.0 which is incompatible.\n",
      "pandas-datareader 0.10.0 requires requests>=2.19.0, but you have requests 2.13.0 which is incompatible.\n",
      "cookiecutter 1.7.2 requires requests>=2.23.0, but you have requests 2.13.0 which is incompatible.\n",
      "cbpro 1.1.4 requires six==1.10.0, but you have six 1.16.0 which is incompatible.\n"
     ]
    }
   ],
   "source": [
    "!pip install nbconvert"
   ]
  },
  {
   "cell_type": "code",
   "execution_count": null,
   "metadata": {},
   "outputs": [],
   "source": []
  }
 ],
 "metadata": {
  "kernelspec": {
   "display_name": "Python 3 (ipykernel)",
   "language": "python",
   "name": "python3"
  },
  "language_info": {
   "codemirror_mode": {
    "name": "ipython",
    "version": 3
   },
   "file_extension": ".py",
   "mimetype": "text/x-python",
   "name": "python",
   "nbconvert_exporter": "python",
   "pygments_lexer": "ipython3",
   "version": "3.9.7"
  }
 },
 "nbformat": 4,
 "nbformat_minor": 4
}
